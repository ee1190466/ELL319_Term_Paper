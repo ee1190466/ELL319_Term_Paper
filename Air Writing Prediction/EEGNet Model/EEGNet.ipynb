{
  "nbformat": 4,
  "nbformat_minor": 0,
  "metadata": {
    "colab": {
      "name": "Untitled1.ipynb",
      "provenance": []
    },
    "kernelspec": {
      "name": "python3",
      "display_name": "Python 3"
    },
    "language_info": {
      "name": "python"
    }
  },
  "cells": [
    {
      "cell_type": "code",
      "source": [
        "from google.colab import drive\n",
        "drive.mount('/content/drive')"
      ],
      "metadata": {
        "colab": {
          "base_uri": "https://localhost:8080/"
        },
        "id": "3XgbaiZfsZJL",
        "outputId": "2e9bb02e-c358-4a9a-eed5-047109fa2eb4"
      },
      "execution_count": 9,
      "outputs": [
        {
          "output_type": "stream",
          "name": "stdout",
          "text": [
            "Mounted at /content/drive\n"
          ]
        }
      ]
    },
    {
      "cell_type": "code",
      "source": [
        "!pip install tensorflow==1.14"
      ],
      "metadata": {
        "colab": {
          "base_uri": "https://localhost:8080/"
        },
        "id": "HJZAn5MfgnC-",
        "outputId": "701e7e9e-8e74-4715-c81b-521849140030"
      },
      "execution_count": 1,
      "outputs": [
        {
          "output_type": "stream",
          "name": "stdout",
          "text": [
            "Looking in indexes: https://pypi.org/simple, https://us-python.pkg.dev/colab-wheels/public/simple/\n",
            "Requirement already satisfied: tensorflow==1.14 in /usr/local/lib/python3.7/dist-packages (1.14.0)\n",
            "Requirement already satisfied: numpy<2.0,>=1.14.5 in /usr/local/lib/python3.7/dist-packages (from tensorflow==1.14) (1.21.6)\n",
            "Requirement already satisfied: wrapt>=1.11.1 in /usr/local/lib/python3.7/dist-packages (from tensorflow==1.14) (1.14.1)\n",
            "Requirement already satisfied: six>=1.10.0 in /usr/local/lib/python3.7/dist-packages (from tensorflow==1.14) (1.15.0)\n",
            "Requirement already satisfied: gast>=0.2.0 in /usr/local/lib/python3.7/dist-packages (from tensorflow==1.14) (0.5.3)\n",
            "Requirement already satisfied: absl-py>=0.7.0 in /usr/local/lib/python3.7/dist-packages (from tensorflow==1.14) (1.2.0)\n",
            "Requirement already satisfied: keras-preprocessing>=1.0.5 in /usr/local/lib/python3.7/dist-packages (from tensorflow==1.14) (1.1.2)\n",
            "Requirement already satisfied: astor>=0.6.0 in /usr/local/lib/python3.7/dist-packages (from tensorflow==1.14) (0.8.1)\n",
            "Requirement already satisfied: wheel>=0.26 in /usr/local/lib/python3.7/dist-packages (from tensorflow==1.14) (0.37.1)\n",
            "Requirement already satisfied: termcolor>=1.1.0 in /usr/local/lib/python3.7/dist-packages (from tensorflow==1.14) (1.1.0)\n",
            "Requirement already satisfied: google-pasta>=0.1.6 in /usr/local/lib/python3.7/dist-packages (from tensorflow==1.14) (0.2.0)\n",
            "Requirement already satisfied: protobuf>=3.6.1 in /usr/local/lib/python3.7/dist-packages (from tensorflow==1.14) (3.17.3)\n",
            "Requirement already satisfied: tensorflow-estimator<1.15.0rc0,>=1.14.0rc0 in /usr/local/lib/python3.7/dist-packages (from tensorflow==1.14) (1.14.0)\n",
            "Requirement already satisfied: keras-applications>=1.0.6 in /usr/local/lib/python3.7/dist-packages (from tensorflow==1.14) (1.0.8)\n",
            "Requirement already satisfied: grpcio>=1.8.6 in /usr/local/lib/python3.7/dist-packages (from tensorflow==1.14) (1.47.0)\n",
            "Requirement already satisfied: tensorboard<1.15.0,>=1.14.0 in /usr/local/lib/python3.7/dist-packages (from tensorflow==1.14) (1.14.0)\n",
            "Requirement already satisfied: h5py in /usr/local/lib/python3.7/dist-packages (from keras-applications>=1.0.6->tensorflow==1.14) (3.1.0)\n",
            "Requirement already satisfied: markdown>=2.6.8 in /usr/local/lib/python3.7/dist-packages (from tensorboard<1.15.0,>=1.14.0->tensorflow==1.14) (3.4.1)\n",
            "Requirement already satisfied: setuptools>=41.0.0 in /usr/local/lib/python3.7/dist-packages (from tensorboard<1.15.0,>=1.14.0->tensorflow==1.14) (57.4.0)\n",
            "Requirement already satisfied: werkzeug>=0.11.15 in /usr/local/lib/python3.7/dist-packages (from tensorboard<1.15.0,>=1.14.0->tensorflow==1.14) (1.0.1)\n",
            "Requirement already satisfied: importlib-metadata>=4.4 in /usr/local/lib/python3.7/dist-packages (from markdown>=2.6.8->tensorboard<1.15.0,>=1.14.0->tensorflow==1.14) (4.12.0)\n",
            "Requirement already satisfied: zipp>=0.5 in /usr/local/lib/python3.7/dist-packages (from importlib-metadata>=4.4->markdown>=2.6.8->tensorboard<1.15.0,>=1.14.0->tensorflow==1.14) (3.8.1)\n",
            "Requirement already satisfied: typing-extensions>=3.6.4 in /usr/local/lib/python3.7/dist-packages (from importlib-metadata>=4.4->markdown>=2.6.8->tensorboard<1.15.0,>=1.14.0->tensorflow==1.14) (4.1.1)\n",
            "Requirement already satisfied: cached-property in /usr/local/lib/python3.7/dist-packages (from h5py->keras-applications>=1.0.6->tensorflow==1.14) (1.5.2)\n"
          ]
        }
      ]
    },
    {
      "cell_type": "code",
      "source": [
        "# pip install -e git+https://github.com/marcoancona/DeepExplain.git #egg=deepexplain"
      ],
      "metadata": {
        "id": "PkubaKFShxbG"
      },
      "execution_count": 2,
      "outputs": []
    },
    {
      "cell_type": "code",
      "source": [
        "import sys\n",
        "!{sys.executable} -m pip install -e git+https://github.com/marcoancona/DeepExplain.git#egg=deepexplain"
      ],
      "metadata": {
        "colab": {
          "base_uri": "https://localhost:8080/"
        },
        "id": "cXI3N24mlwsR",
        "outputId": "30dbac62-9997-4654-9c97-d7a886c8af87"
      },
      "execution_count": 3,
      "outputs": [
        {
          "output_type": "stream",
          "name": "stdout",
          "text": [
            "Looking in indexes: https://pypi.org/simple, https://us-python.pkg.dev/colab-wheels/public/simple/\n",
            "Obtaining deepexplain from git+https://github.com/marcoancona/DeepExplain.git#egg=deepexplain\n",
            "  Updating ./src/deepexplain clone\n",
            "  Running command git fetch -q --tags\n",
            "  Running command git reset --hard -q 87fb43a13ac2a3b285a030b87df899cc40100c94\n",
            "Requirement already satisfied: scipy in /usr/local/lib/python3.7/dist-packages (from deepexplain) (1.7.3)\n",
            "Requirement already satisfied: matplotlib in /usr/local/lib/python3.7/dist-packages (from deepexplain) (3.2.2)\n",
            "Requirement already satisfied: scikit-image in /usr/local/lib/python3.7/dist-packages (from deepexplain) (0.18.3)\n",
            "Requirement already satisfied: python-dateutil>=2.1 in /usr/local/lib/python3.7/dist-packages (from matplotlib->deepexplain) (2.8.2)\n",
            "Requirement already satisfied: kiwisolver>=1.0.1 in /usr/local/lib/python3.7/dist-packages (from matplotlib->deepexplain) (1.4.4)\n",
            "Requirement already satisfied: numpy>=1.11 in /usr/local/lib/python3.7/dist-packages (from matplotlib->deepexplain) (1.21.6)\n",
            "Requirement already satisfied: pyparsing!=2.0.4,!=2.1.2,!=2.1.6,>=2.0.1 in /usr/local/lib/python3.7/dist-packages (from matplotlib->deepexplain) (3.0.9)\n",
            "Requirement already satisfied: cycler>=0.10 in /usr/local/lib/python3.7/dist-packages (from matplotlib->deepexplain) (0.11.0)\n",
            "Requirement already satisfied: typing-extensions in /usr/local/lib/python3.7/dist-packages (from kiwisolver>=1.0.1->matplotlib->deepexplain) (4.1.1)\n",
            "Requirement already satisfied: six>=1.5 in /usr/local/lib/python3.7/dist-packages (from python-dateutil>=2.1->matplotlib->deepexplain) (1.15.0)\n",
            "Requirement already satisfied: PyWavelets>=1.1.1 in /usr/local/lib/python3.7/dist-packages (from scikit-image->deepexplain) (1.3.0)\n",
            "Requirement already satisfied: tifffile>=2019.7.26 in /usr/local/lib/python3.7/dist-packages (from scikit-image->deepexplain) (2021.11.2)\n",
            "Requirement already satisfied: networkx>=2.0 in /usr/local/lib/python3.7/dist-packages (from scikit-image->deepexplain) (2.6.3)\n",
            "Requirement already satisfied: imageio>=2.3.0 in /usr/local/lib/python3.7/dist-packages (from scikit-image->deepexplain) (2.9.0)\n",
            "Requirement already satisfied: pillow!=7.1.0,!=7.1.1,>=4.3.0 in /usr/local/lib/python3.7/dist-packages (from scikit-image->deepexplain) (7.1.2)\n",
            "Installing collected packages: deepexplain\n",
            "  Attempting uninstall: deepexplain\n",
            "    Found existing installation: deepexplain 0.3\n",
            "    Can't uninstall 'deepexplain'. No files were found to uninstall.\n",
            "  Running setup.py develop for deepexplain\n",
            "Successfully installed deepexplain-0.3\n"
          ]
        }
      ]
    },
    {
      "cell_type": "code",
      "source": [
        "import tensorflow as tf\n",
        "tf.compat.v1.disable_eager_execution()"
      ],
      "metadata": {
        "id": "-SdRlMUcjGgS",
        "colab": {
          "base_uri": "https://localhost:8080/"
        },
        "outputId": "3d2c6b4b-b7cc-4363-8ac4-895856e9d371"
      },
      "execution_count": 4,
      "outputs": [
        {
          "output_type": "stream",
          "name": "stderr",
          "text": [
            "/usr/local/lib/python3.7/dist-packages/tensorflow/python/framework/dtypes.py:516: FutureWarning: Passing (type, 1) or '1type' as a synonym of type is deprecated; in a future version of numpy, it will be understood as (type, (1,)) / '(1,)type'.\n",
            "  _np_qint8 = np.dtype([(\"qint8\", np.int8, 1)])\n",
            "/usr/local/lib/python3.7/dist-packages/tensorflow/python/framework/dtypes.py:517: FutureWarning: Passing (type, 1) or '1type' as a synonym of type is deprecated; in a future version of numpy, it will be understood as (type, (1,)) / '(1,)type'.\n",
            "  _np_quint8 = np.dtype([(\"quint8\", np.uint8, 1)])\n",
            "/usr/local/lib/python3.7/dist-packages/tensorflow/python/framework/dtypes.py:518: FutureWarning: Passing (type, 1) or '1type' as a synonym of type is deprecated; in a future version of numpy, it will be understood as (type, (1,)) / '(1,)type'.\n",
            "  _np_qint16 = np.dtype([(\"qint16\", np.int16, 1)])\n",
            "/usr/local/lib/python3.7/dist-packages/tensorflow/python/framework/dtypes.py:519: FutureWarning: Passing (type, 1) or '1type' as a synonym of type is deprecated; in a future version of numpy, it will be understood as (type, (1,)) / '(1,)type'.\n",
            "  _np_quint16 = np.dtype([(\"quint16\", np.uint16, 1)])\n",
            "/usr/local/lib/python3.7/dist-packages/tensorflow/python/framework/dtypes.py:520: FutureWarning: Passing (type, 1) or '1type' as a synonym of type is deprecated; in a future version of numpy, it will be understood as (type, (1,)) / '(1,)type'.\n",
            "  _np_qint32 = np.dtype([(\"qint32\", np.int32, 1)])\n",
            "/usr/local/lib/python3.7/dist-packages/tensorflow/python/framework/dtypes.py:525: FutureWarning: Passing (type, 1) or '1type' as a synonym of type is deprecated; in a future version of numpy, it will be understood as (type, (1,)) / '(1,)type'.\n",
            "  np_resource = np.dtype([(\"resource\", np.ubyte, 1)])\n",
            "/usr/local/lib/python3.7/dist-packages/tensorboard/compat/tensorflow_stub/dtypes.py:541: FutureWarning: Passing (type, 1) or '1type' as a synonym of type is deprecated; in a future version of numpy, it will be understood as (type, (1,)) / '(1,)type'.\n",
            "  _np_qint8 = np.dtype([(\"qint8\", np.int8, 1)])\n",
            "/usr/local/lib/python3.7/dist-packages/tensorboard/compat/tensorflow_stub/dtypes.py:542: FutureWarning: Passing (type, 1) or '1type' as a synonym of type is deprecated; in a future version of numpy, it will be understood as (type, (1,)) / '(1,)type'.\n",
            "  _np_quint8 = np.dtype([(\"quint8\", np.uint8, 1)])\n",
            "/usr/local/lib/python3.7/dist-packages/tensorboard/compat/tensorflow_stub/dtypes.py:543: FutureWarning: Passing (type, 1) or '1type' as a synonym of type is deprecated; in a future version of numpy, it will be understood as (type, (1,)) / '(1,)type'.\n",
            "  _np_qint16 = np.dtype([(\"qint16\", np.int16, 1)])\n",
            "/usr/local/lib/python3.7/dist-packages/tensorboard/compat/tensorflow_stub/dtypes.py:544: FutureWarning: Passing (type, 1) or '1type' as a synonym of type is deprecated; in a future version of numpy, it will be understood as (type, (1,)) / '(1,)type'.\n",
            "  _np_quint16 = np.dtype([(\"quint16\", np.uint16, 1)])\n",
            "/usr/local/lib/python3.7/dist-packages/tensorboard/compat/tensorflow_stub/dtypes.py:545: FutureWarning: Passing (type, 1) or '1type' as a synonym of type is deprecated; in a future version of numpy, it will be understood as (type, (1,)) / '(1,)type'.\n",
            "  _np_qint32 = np.dtype([(\"qint32\", np.int32, 1)])\n",
            "/usr/local/lib/python3.7/dist-packages/tensorboard/compat/tensorflow_stub/dtypes.py:550: FutureWarning: Passing (type, 1) or '1type' as a synonym of type is deprecated; in a future version of numpy, it will be understood as (type, (1,)) / '(1,)type'.\n",
            "  np_resource = np.dtype([(\"resource\", np.ubyte, 1)])\n"
          ]
        }
      ]
    },
    {
      "cell_type": "code",
      "source": [
        "!pip install mne --upgrade"
      ],
      "metadata": {
        "colab": {
          "base_uri": "https://localhost:8080/"
        },
        "id": "gG7bjTy1kJVT",
        "outputId": "c293d724-7c01-4c6c-f70f-ac8425bc67ca"
      },
      "execution_count": 6,
      "outputs": [
        {
          "output_type": "stream",
          "name": "stdout",
          "text": [
            "Looking in indexes: https://pypi.org/simple, https://us-python.pkg.dev/colab-wheels/public/simple/\n",
            "Requirement already satisfied: mne in /usr/local/lib/python3.7/dist-packages (1.1.0)\n",
            "Requirement already satisfied: decorator in /usr/local/lib/python3.7/dist-packages (from mne) (4.4.2)\n",
            "Requirement already satisfied: matplotlib in /usr/local/lib/python3.7/dist-packages (from mne) (3.2.2)\n",
            "Requirement already satisfied: tqdm in /usr/local/lib/python3.7/dist-packages (from mne) (4.64.0)\n",
            "Requirement already satisfied: packaging in /usr/local/lib/python3.7/dist-packages (from mne) (21.3)\n",
            "Requirement already satisfied: jinja2 in /usr/local/lib/python3.7/dist-packages (from mne) (2.11.3)\n",
            "Requirement already satisfied: scipy>=1.1.0 in /usr/local/lib/python3.7/dist-packages (from mne) (1.7.3)\n",
            "Requirement already satisfied: numpy>=1.15.4 in /usr/local/lib/python3.7/dist-packages (from mne) (1.21.6)\n",
            "Requirement already satisfied: pooch>=1.5 in /usr/local/lib/python3.7/dist-packages (from mne) (1.6.0)\n",
            "Requirement already satisfied: appdirs>=1.3.0 in /usr/local/lib/python3.7/dist-packages (from pooch>=1.5->mne) (1.4.4)\n",
            "Requirement already satisfied: requests>=2.19.0 in /usr/local/lib/python3.7/dist-packages (from pooch>=1.5->mne) (2.23.0)\n",
            "Requirement already satisfied: pyparsing!=3.0.5,>=2.0.2 in /usr/local/lib/python3.7/dist-packages (from packaging->mne) (3.0.9)\n",
            "Requirement already satisfied: urllib3!=1.25.0,!=1.25.1,<1.26,>=1.21.1 in /usr/local/lib/python3.7/dist-packages (from requests>=2.19.0->pooch>=1.5->mne) (1.24.3)\n",
            "Requirement already satisfied: idna<3,>=2.5 in /usr/local/lib/python3.7/dist-packages (from requests>=2.19.0->pooch>=1.5->mne) (2.10)\n",
            "Requirement already satisfied: certifi>=2017.4.17 in /usr/local/lib/python3.7/dist-packages (from requests>=2.19.0->pooch>=1.5->mne) (2022.6.15)\n",
            "Requirement already satisfied: chardet<4,>=3.0.2 in /usr/local/lib/python3.7/dist-packages (from requests>=2.19.0->pooch>=1.5->mne) (3.0.4)\n",
            "Requirement already satisfied: MarkupSafe>=0.23 in /usr/local/lib/python3.7/dist-packages (from jinja2->mne) (2.0.1)\n",
            "Requirement already satisfied: python-dateutil>=2.1 in /usr/local/lib/python3.7/dist-packages (from matplotlib->mne) (2.8.2)\n",
            "Requirement already satisfied: kiwisolver>=1.0.1 in /usr/local/lib/python3.7/dist-packages (from matplotlib->mne) (1.4.4)\n",
            "Requirement already satisfied: cycler>=0.10 in /usr/local/lib/python3.7/dist-packages (from matplotlib->mne) (0.11.0)\n",
            "Requirement already satisfied: typing-extensions in /usr/local/lib/python3.7/dist-packages (from kiwisolver>=1.0.1->matplotlib->mne) (4.1.1)\n",
            "Requirement already satisfied: six>=1.5 in /usr/local/lib/python3.7/dist-packages (from python-dateutil>=2.1->matplotlib->mne) (1.15.0)\n"
          ]
        }
      ]
    },
    {
      "cell_type": "code",
      "source": [
        "import numpy as np\n",
        "\n",
        "# mne imports\n",
        "import mne\n",
        "from mne import io\n",
        "from mne.datasets import sample\n",
        "\n",
        "# EEGNet-specific imports\n",
        "from EEGModels import EEGNet\n",
        "from tensorflow.keras import utils as np_utils\n",
        "from tensorflow.keras.callbacks import ModelCheckpoint\n",
        "from tensorflow.python.keras import backend as K\n",
        "from tensorflow.keras.models import Model\n",
        "\n",
        "from deepexplain.tensorflow import DeepExplain"
      ],
      "metadata": {
        "colab": {
          "base_uri": "https://localhost:8080/"
        },
        "id": "5f--MQMcjLXT",
        "outputId": "1b58ca7b-2f02-4e07-9da1-f905802bb71c"
      },
      "execution_count": 7,
      "outputs": [
        {
          "output_type": "stream",
          "name": "stderr",
          "text": [
            "WARNING:tensorflow:From /content/src/deepexplain/deepexplain/tensorflow/methods.py:559: The name tf.get_default_session is deprecated. Please use tf.compat.v1.get_default_session instead.\n",
            "\n"
          ]
        }
      ]
    },
    {
      "cell_type": "code",
      "source": [
        "from EEGModels import EEGNet, ShallowConvNet, DeepConvNet\n",
        "from tensorflow.keras.models import Model\n",
        "from deepexplain.tensorflow import DeepExplain\n",
        "from tensorflow.keras import backend as K\n"
      ],
      "metadata": {
        "id": "teV3jmYXdWyX"
      },
      "execution_count": 8,
      "outputs": []
    },
    {
      "cell_type": "code",
      "source": [
        "!pip install keras"
      ],
      "metadata": {
        "colab": {
          "base_uri": "https://localhost:8080/"
        },
        "id": "HNahF_rxukWa",
        "outputId": "c269b3d0-8801-4d3f-ec2b-65f0559c804f"
      },
      "execution_count": 31,
      "outputs": [
        {
          "output_type": "stream",
          "name": "stdout",
          "text": [
            "Looking in indexes: https://pypi.org/simple, https://us-python.pkg.dev/colab-wheels/public/simple/\n",
            "Requirement already satisfied: keras in /usr/local/lib/python3.7/dist-packages (2.8.0)\n"
          ]
        }
      ]
    },
    {
      "cell_type": "code",
      "source": [
        "!pip install np_utils"
      ],
      "metadata": {
        "colab": {
          "base_uri": "https://localhost:8080/"
        },
        "id": "CWcNvbiZzte5",
        "outputId": "e919ae84-4ab2-44e8-b980-b26728dbc106"
      },
      "execution_count": 50,
      "outputs": [
        {
          "output_type": "stream",
          "name": "stdout",
          "text": [
            "Looking in indexes: https://pypi.org/simple, https://us-python.pkg.dev/colab-wheels/public/simple/\n",
            "Collecting np_utils\n",
            "  Downloading np_utils-0.6.0.tar.gz (61 kB)\n",
            "\u001b[K     |████████████████████████████████| 61 kB 568 kB/s \n",
            "\u001b[?25hRequirement already satisfied: numpy>=1.0 in /usr/local/lib/python3.7/dist-packages (from np_utils) (1.21.6)\n",
            "Building wheels for collected packages: np-utils\n",
            "  Building wheel for np-utils (setup.py) ... \u001b[?25l\u001b[?25hdone\n",
            "  Created wheel for np-utils: filename=np_utils-0.6.0-py3-none-any.whl size=56459 sha256=17aa952001dce6f4a7e401c1ac5e49fb00d6f147461314951a65acd60c3386fc\n",
            "  Stored in directory: /root/.cache/pip/wheels/d2/83/71/a781667865955ae7dc18e5a4038401deb56d96eb85d3a5f1c0\n",
            "Successfully built np-utils\n",
            "Installing collected packages: np-utils\n",
            "Successfully installed np-utils-0.6.0\n"
          ]
        }
      ]
    },
    {
      "cell_type": "code",
      "source": [
        "from sklearn import preprocessing\n",
        "from sklearn.metrics import confusion_matrix, recall_score, precision_score\n",
        "from tensorflow.keras.models import Sequential,load_model,model_from_json\n",
        "from tensorflow.keras.layers import Dense, Dropout, LSTM,BatchNormalization,TimeDistributed,Flatten,Bidirectional"
      ],
      "metadata": {
        "id": "_YT-lSofx-JJ"
      },
      "execution_count": 47,
      "outputs": []
    },
    {
      "cell_type": "code",
      "source": [
        "from tensorflow import keras \n",
        "!pip install --upgrade tensorflow\n",
        "!pip install --upgrade tensorflow-gpu"
      ],
      "metadata": {
        "colab": {
          "base_uri": "https://localhost:8080/",
          "height": 1000
        },
        "id": "5V3x7OKnyU2R",
        "outputId": "6e8ad5df-6d67-4ef5-c8bb-916d7f96231b"
      },
      "execution_count": 42,
      "outputs": [
        {
          "output_type": "stream",
          "name": "stdout",
          "text": [
            "Looking in indexes: https://pypi.org/simple, https://us-python.pkg.dev/colab-wheels/public/simple/\n",
            "Requirement already satisfied: tensorflow in /usr/local/lib/python3.7/dist-packages (1.14.0)\n",
            "Collecting tensorflow\n",
            "  Downloading tensorflow-2.9.1-cp37-cp37m-manylinux_2_17_x86_64.manylinux2014_x86_64.whl (511.7 MB)\n",
            "\u001b[K     |████████████████████████████████| 511.7 MB 4.3 kB/s \n",
            "\u001b[?25hRequirement already satisfied: typing-extensions>=3.6.6 in /usr/local/lib/python3.7/dist-packages (from tensorflow) (4.1.1)\n",
            "Requirement already satisfied: libclang>=13.0.0 in /usr/local/lib/python3.7/dist-packages (from tensorflow) (14.0.6)\n",
            "Requirement already satisfied: packaging in /usr/local/lib/python3.7/dist-packages (from tensorflow) (21.3)\n",
            "Collecting tensorboard<2.10,>=2.9\n",
            "  Downloading tensorboard-2.9.1-py3-none-any.whl (5.8 MB)\n",
            "\u001b[K     |████████████████████████████████| 5.8 MB 43.0 MB/s \n",
            "\u001b[?25hRequirement already satisfied: opt-einsum>=2.3.2 in /usr/local/lib/python3.7/dist-packages (from tensorflow) (3.3.0)\n",
            "Requirement already satisfied: wrapt>=1.11.0 in /usr/local/lib/python3.7/dist-packages (from tensorflow) (1.14.1)\n",
            "Requirement already satisfied: google-pasta>=0.1.1 in /usr/local/lib/python3.7/dist-packages (from tensorflow) (0.2.0)\n",
            "Requirement already satisfied: keras-preprocessing>=1.1.1 in /usr/local/lib/python3.7/dist-packages (from tensorflow) (1.1.2)\n",
            "Requirement already satisfied: setuptools in /usr/local/lib/python3.7/dist-packages (from tensorflow) (57.4.0)\n",
            "Requirement already satisfied: numpy>=1.20 in /usr/local/lib/python3.7/dist-packages (from tensorflow) (1.21.6)\n",
            "Requirement already satisfied: termcolor>=1.1.0 in /usr/local/lib/python3.7/dist-packages (from tensorflow) (1.1.0)\n",
            "Collecting flatbuffers<2,>=1.12\n",
            "  Downloading flatbuffers-1.12-py2.py3-none-any.whl (15 kB)\n",
            "Requirement already satisfied: h5py>=2.9.0 in /usr/local/lib/python3.7/dist-packages (from tensorflow) (3.1.0)\n",
            "Collecting keras<2.10.0,>=2.9.0rc0\n",
            "  Downloading keras-2.9.0-py2.py3-none-any.whl (1.6 MB)\n",
            "\u001b[K     |████████████████████████████████| 1.6 MB 46.8 MB/s \n",
            "\u001b[?25hRequirement already satisfied: absl-py>=1.0.0 in /usr/local/lib/python3.7/dist-packages (from tensorflow) (1.2.0)\n",
            "Collecting tensorflow-estimator<2.10.0,>=2.9.0rc0\n",
            "  Downloading tensorflow_estimator-2.9.0-py2.py3-none-any.whl (438 kB)\n",
            "\u001b[K     |████████████████████████████████| 438 kB 51.3 MB/s \n",
            "\u001b[?25hCollecting gast<=0.4.0,>=0.2.1\n",
            "  Downloading gast-0.4.0-py3-none-any.whl (9.8 kB)\n",
            "Requirement already satisfied: astunparse>=1.6.0 in /usr/local/lib/python3.7/dist-packages (from tensorflow) (1.6.3)\n",
            "Requirement already satisfied: protobuf<3.20,>=3.9.2 in /usr/local/lib/python3.7/dist-packages (from tensorflow) (3.17.3)\n",
            "Requirement already satisfied: grpcio<2.0,>=1.24.3 in /usr/local/lib/python3.7/dist-packages (from tensorflow) (1.47.0)\n",
            "Requirement already satisfied: tensorflow-io-gcs-filesystem>=0.23.1 in /usr/local/lib/python3.7/dist-packages (from tensorflow) (0.26.0)\n",
            "Requirement already satisfied: six>=1.12.0 in /usr/local/lib/python3.7/dist-packages (from tensorflow) (1.15.0)\n",
            "Requirement already satisfied: wheel<1.0,>=0.23.0 in /usr/local/lib/python3.7/dist-packages (from astunparse>=1.6.0->tensorflow) (0.37.1)\n",
            "Requirement already satisfied: cached-property in /usr/local/lib/python3.7/dist-packages (from h5py>=2.9.0->tensorflow) (1.5.2)\n",
            "Requirement already satisfied: markdown>=2.6.8 in /usr/local/lib/python3.7/dist-packages (from tensorboard<2.10,>=2.9->tensorflow) (3.4.1)\n",
            "Requirement already satisfied: werkzeug>=1.0.1 in /usr/local/lib/python3.7/dist-packages (from tensorboard<2.10,>=2.9->tensorflow) (1.0.1)\n",
            "Requirement already satisfied: google-auth-oauthlib<0.5,>=0.4.1 in /usr/local/lib/python3.7/dist-packages (from tensorboard<2.10,>=2.9->tensorflow) (0.4.6)\n",
            "Requirement already satisfied: tensorboard-plugin-wit>=1.6.0 in /usr/local/lib/python3.7/dist-packages (from tensorboard<2.10,>=2.9->tensorflow) (1.8.1)\n",
            "Requirement already satisfied: tensorboard-data-server<0.7.0,>=0.6.0 in /usr/local/lib/python3.7/dist-packages (from tensorboard<2.10,>=2.9->tensorflow) (0.6.1)\n",
            "Requirement already satisfied: google-auth<3,>=1.6.3 in /usr/local/lib/python3.7/dist-packages (from tensorboard<2.10,>=2.9->tensorflow) (1.35.0)\n",
            "Requirement already satisfied: requests<3,>=2.21.0 in /usr/local/lib/python3.7/dist-packages (from tensorboard<2.10,>=2.9->tensorflow) (2.23.0)\n",
            "Requirement already satisfied: cachetools<5.0,>=2.0.0 in /usr/local/lib/python3.7/dist-packages (from google-auth<3,>=1.6.3->tensorboard<2.10,>=2.9->tensorflow) (4.2.4)\n",
            "Requirement already satisfied: rsa<5,>=3.1.4 in /usr/local/lib/python3.7/dist-packages (from google-auth<3,>=1.6.3->tensorboard<2.10,>=2.9->tensorflow) (4.9)\n",
            "Requirement already satisfied: pyasn1-modules>=0.2.1 in /usr/local/lib/python3.7/dist-packages (from google-auth<3,>=1.6.3->tensorboard<2.10,>=2.9->tensorflow) (0.2.8)\n",
            "Requirement already satisfied: requests-oauthlib>=0.7.0 in /usr/local/lib/python3.7/dist-packages (from google-auth-oauthlib<0.5,>=0.4.1->tensorboard<2.10,>=2.9->tensorflow) (1.3.1)\n",
            "Requirement already satisfied: importlib-metadata>=4.4 in /usr/local/lib/python3.7/dist-packages (from markdown>=2.6.8->tensorboard<2.10,>=2.9->tensorflow) (4.12.0)\n",
            "Requirement already satisfied: zipp>=0.5 in /usr/local/lib/python3.7/dist-packages (from importlib-metadata>=4.4->markdown>=2.6.8->tensorboard<2.10,>=2.9->tensorflow) (3.8.1)\n",
            "Requirement already satisfied: pyasn1<0.5.0,>=0.4.6 in /usr/local/lib/python3.7/dist-packages (from pyasn1-modules>=0.2.1->google-auth<3,>=1.6.3->tensorboard<2.10,>=2.9->tensorflow) (0.4.8)\n",
            "Requirement already satisfied: idna<3,>=2.5 in /usr/local/lib/python3.7/dist-packages (from requests<3,>=2.21.0->tensorboard<2.10,>=2.9->tensorflow) (2.10)\n",
            "Requirement already satisfied: certifi>=2017.4.17 in /usr/local/lib/python3.7/dist-packages (from requests<3,>=2.21.0->tensorboard<2.10,>=2.9->tensorflow) (2022.6.15)\n",
            "Requirement already satisfied: urllib3!=1.25.0,!=1.25.1,<1.26,>=1.21.1 in /usr/local/lib/python3.7/dist-packages (from requests<3,>=2.21.0->tensorboard<2.10,>=2.9->tensorflow) (1.24.3)\n",
            "Requirement already satisfied: chardet<4,>=3.0.2 in /usr/local/lib/python3.7/dist-packages (from requests<3,>=2.21.0->tensorboard<2.10,>=2.9->tensorflow) (3.0.4)\n",
            "Requirement already satisfied: oauthlib>=3.0.0 in /usr/local/lib/python3.7/dist-packages (from requests-oauthlib>=0.7.0->google-auth-oauthlib<0.5,>=0.4.1->tensorboard<2.10,>=2.9->tensorflow) (3.2.0)\n",
            "Requirement already satisfied: pyparsing!=3.0.5,>=2.0.2 in /usr/local/lib/python3.7/dist-packages (from packaging->tensorflow) (3.0.9)\n",
            "Installing collected packages: tensorflow-estimator, tensorboard, keras, gast, flatbuffers, tensorflow\n",
            "  Attempting uninstall: tensorflow-estimator\n",
            "    Found existing installation: tensorflow-estimator 1.14.0\n",
            "    Uninstalling tensorflow-estimator-1.14.0:\n",
            "      Successfully uninstalled tensorflow-estimator-1.14.0\n",
            "  Attempting uninstall: tensorboard\n",
            "    Found existing installation: tensorboard 1.14.0\n",
            "    Uninstalling tensorboard-1.14.0:\n",
            "      Successfully uninstalled tensorboard-1.14.0\n",
            "  Attempting uninstall: keras\n",
            "    Found existing installation: keras 2.8.0\n",
            "    Uninstalling keras-2.8.0:\n",
            "      Successfully uninstalled keras-2.8.0\n",
            "  Attempting uninstall: gast\n",
            "    Found existing installation: gast 0.5.3\n",
            "    Uninstalling gast-0.5.3:\n",
            "      Successfully uninstalled gast-0.5.3\n",
            "  Attempting uninstall: flatbuffers\n",
            "    Found existing installation: flatbuffers 2.0\n",
            "    Uninstalling flatbuffers-2.0:\n",
            "      Successfully uninstalled flatbuffers-2.0\n",
            "  Attempting uninstall: tensorflow\n",
            "    Found existing installation: tensorflow 1.14.0\n",
            "    Uninstalling tensorflow-1.14.0:\n",
            "      Successfully uninstalled tensorflow-1.14.0\n",
            "Successfully installed flatbuffers-1.12 gast-0.4.0 keras-2.9.0 tensorboard-2.9.1 tensorflow-2.9.1 tensorflow-estimator-2.9.0\n"
          ]
        },
        {
          "output_type": "display_data",
          "data": {
            "application/vnd.colab-display-data+json": {
              "pip_warning": {
                "packages": [
                  "gast",
                  "tensorboard",
                  "tensorflow",
                  "tensorflow_estimator"
                ]
              }
            }
          },
          "metadata": {}
        },
        {
          "output_type": "stream",
          "name": "stdout",
          "text": [
            "Looking in indexes: https://pypi.org/simple, https://us-python.pkg.dev/colab-wheels/public/simple/\n",
            "Collecting tensorflow-gpu\n",
            "  Downloading tensorflow_gpu-2.9.1-cp37-cp37m-manylinux_2_17_x86_64.manylinux2014_x86_64.whl (511.7 MB)\n",
            "\u001b[K     |████████████████████████████████| 511.7 MB 5.9 kB/s \n",
            "\u001b[?25hRequirement already satisfied: astunparse>=1.6.0 in /usr/local/lib/python3.7/dist-packages (from tensorflow-gpu) (1.6.3)\n",
            "Requirement already satisfied: setuptools in /usr/local/lib/python3.7/dist-packages (from tensorflow-gpu) (57.4.0)\n",
            "Requirement already satisfied: typing-extensions>=3.6.6 in /usr/local/lib/python3.7/dist-packages (from tensorflow-gpu) (4.1.1)\n",
            "Requirement already satisfied: libclang>=13.0.0 in /usr/local/lib/python3.7/dist-packages (from tensorflow-gpu) (14.0.6)\n",
            "Requirement already satisfied: opt-einsum>=2.3.2 in /usr/local/lib/python3.7/dist-packages (from tensorflow-gpu) (3.3.0)\n",
            "Requirement already satisfied: gast<=0.4.0,>=0.2.1 in /usr/local/lib/python3.7/dist-packages (from tensorflow-gpu) (0.4.0)\n",
            "Requirement already satisfied: tensorboard<2.10,>=2.9 in /usr/local/lib/python3.7/dist-packages (from tensorflow-gpu) (2.9.1)\n",
            "Requirement already satisfied: numpy>=1.20 in /usr/local/lib/python3.7/dist-packages (from tensorflow-gpu) (1.21.6)\n",
            "Requirement already satisfied: google-pasta>=0.1.1 in /usr/local/lib/python3.7/dist-packages (from tensorflow-gpu) (0.2.0)\n",
            "Requirement already satisfied: grpcio<2.0,>=1.24.3 in /usr/local/lib/python3.7/dist-packages (from tensorflow-gpu) (1.47.0)\n",
            "Requirement already satisfied: termcolor>=1.1.0 in /usr/local/lib/python3.7/dist-packages (from tensorflow-gpu) (1.1.0)\n",
            "Requirement already satisfied: flatbuffers<2,>=1.12 in /usr/local/lib/python3.7/dist-packages (from tensorflow-gpu) (1.12)\n",
            "Requirement already satisfied: tensorflow-estimator<2.10.0,>=2.9.0rc0 in /usr/local/lib/python3.7/dist-packages (from tensorflow-gpu) (2.9.0)\n",
            "Requirement already satisfied: wrapt>=1.11.0 in /usr/local/lib/python3.7/dist-packages (from tensorflow-gpu) (1.14.1)\n",
            "Requirement already satisfied: six>=1.12.0 in /usr/local/lib/python3.7/dist-packages (from tensorflow-gpu) (1.15.0)\n",
            "Requirement already satisfied: protobuf<3.20,>=3.9.2 in /usr/local/lib/python3.7/dist-packages (from tensorflow-gpu) (3.17.3)\n",
            "Requirement already satisfied: packaging in /usr/local/lib/python3.7/dist-packages (from tensorflow-gpu) (21.3)\n",
            "Requirement already satisfied: keras<2.10.0,>=2.9.0rc0 in /usr/local/lib/python3.7/dist-packages (from tensorflow-gpu) (2.9.0)\n",
            "Requirement already satisfied: keras-preprocessing>=1.1.1 in /usr/local/lib/python3.7/dist-packages (from tensorflow-gpu) (1.1.2)\n",
            "Requirement already satisfied: h5py>=2.9.0 in /usr/local/lib/python3.7/dist-packages (from tensorflow-gpu) (3.1.0)\n",
            "Requirement already satisfied: absl-py>=1.0.0 in /usr/local/lib/python3.7/dist-packages (from tensorflow-gpu) (1.2.0)\n",
            "Requirement already satisfied: tensorflow-io-gcs-filesystem>=0.23.1 in /usr/local/lib/python3.7/dist-packages (from tensorflow-gpu) (0.26.0)\n",
            "Requirement already satisfied: wheel<1.0,>=0.23.0 in /usr/local/lib/python3.7/dist-packages (from astunparse>=1.6.0->tensorflow-gpu) (0.37.1)\n",
            "Requirement already satisfied: cached-property in /usr/local/lib/python3.7/dist-packages (from h5py>=2.9.0->tensorflow-gpu) (1.5.2)\n",
            "Requirement already satisfied: tensorboard-data-server<0.7.0,>=0.6.0 in /usr/local/lib/python3.7/dist-packages (from tensorboard<2.10,>=2.9->tensorflow-gpu) (0.6.1)\n",
            "Requirement already satisfied: requests<3,>=2.21.0 in /usr/local/lib/python3.7/dist-packages (from tensorboard<2.10,>=2.9->tensorflow-gpu) (2.23.0)\n",
            "Requirement already satisfied: markdown>=2.6.8 in /usr/local/lib/python3.7/dist-packages (from tensorboard<2.10,>=2.9->tensorflow-gpu) (3.4.1)\n",
            "Requirement already satisfied: werkzeug>=1.0.1 in /usr/local/lib/python3.7/dist-packages (from tensorboard<2.10,>=2.9->tensorflow-gpu) (1.0.1)\n",
            "Requirement already satisfied: tensorboard-plugin-wit>=1.6.0 in /usr/local/lib/python3.7/dist-packages (from tensorboard<2.10,>=2.9->tensorflow-gpu) (1.8.1)\n",
            "Requirement already satisfied: google-auth<3,>=1.6.3 in /usr/local/lib/python3.7/dist-packages (from tensorboard<2.10,>=2.9->tensorflow-gpu) (1.35.0)\n",
            "Requirement already satisfied: google-auth-oauthlib<0.5,>=0.4.1 in /usr/local/lib/python3.7/dist-packages (from tensorboard<2.10,>=2.9->tensorflow-gpu) (0.4.6)\n",
            "Requirement already satisfied: pyasn1-modules>=0.2.1 in /usr/local/lib/python3.7/dist-packages (from google-auth<3,>=1.6.3->tensorboard<2.10,>=2.9->tensorflow-gpu) (0.2.8)\n",
            "Requirement already satisfied: cachetools<5.0,>=2.0.0 in /usr/local/lib/python3.7/dist-packages (from google-auth<3,>=1.6.3->tensorboard<2.10,>=2.9->tensorflow-gpu) (4.2.4)\n",
            "Requirement already satisfied: rsa<5,>=3.1.4 in /usr/local/lib/python3.7/dist-packages (from google-auth<3,>=1.6.3->tensorboard<2.10,>=2.9->tensorflow-gpu) (4.9)\n",
            "Requirement already satisfied: requests-oauthlib>=0.7.0 in /usr/local/lib/python3.7/dist-packages (from google-auth-oauthlib<0.5,>=0.4.1->tensorboard<2.10,>=2.9->tensorflow-gpu) (1.3.1)\n",
            "Requirement already satisfied: importlib-metadata>=4.4 in /usr/local/lib/python3.7/dist-packages (from markdown>=2.6.8->tensorboard<2.10,>=2.9->tensorflow-gpu) (4.12.0)\n",
            "Requirement already satisfied: zipp>=0.5 in /usr/local/lib/python3.7/dist-packages (from importlib-metadata>=4.4->markdown>=2.6.8->tensorboard<2.10,>=2.9->tensorflow-gpu) (3.8.1)\n",
            "Requirement already satisfied: pyasn1<0.5.0,>=0.4.6 in /usr/local/lib/python3.7/dist-packages (from pyasn1-modules>=0.2.1->google-auth<3,>=1.6.3->tensorboard<2.10,>=2.9->tensorflow-gpu) (0.4.8)\n",
            "Requirement already satisfied: certifi>=2017.4.17 in /usr/local/lib/python3.7/dist-packages (from requests<3,>=2.21.0->tensorboard<2.10,>=2.9->tensorflow-gpu) (2022.6.15)\n",
            "Requirement already satisfied: urllib3!=1.25.0,!=1.25.1,<1.26,>=1.21.1 in /usr/local/lib/python3.7/dist-packages (from requests<3,>=2.21.0->tensorboard<2.10,>=2.9->tensorflow-gpu) (1.24.3)\n",
            "Requirement already satisfied: chardet<4,>=3.0.2 in /usr/local/lib/python3.7/dist-packages (from requests<3,>=2.21.0->tensorboard<2.10,>=2.9->tensorflow-gpu) (3.0.4)\n",
            "Requirement already satisfied: idna<3,>=2.5 in /usr/local/lib/python3.7/dist-packages (from requests<3,>=2.21.0->tensorboard<2.10,>=2.9->tensorflow-gpu) (2.10)\n",
            "Requirement already satisfied: oauthlib>=3.0.0 in /usr/local/lib/python3.7/dist-packages (from requests-oauthlib>=0.7.0->google-auth-oauthlib<0.5,>=0.4.1->tensorboard<2.10,>=2.9->tensorflow-gpu) (3.2.0)\n",
            "Requirement already satisfied: pyparsing!=3.0.5,>=2.0.2 in /usr/local/lib/python3.7/dist-packages (from packaging->tensorflow-gpu) (3.0.9)\n",
            "Installing collected packages: tensorflow-gpu\n",
            "Successfully installed tensorflow-gpu-2.9.1\n"
          ]
        },
        {
          "output_type": "display_data",
          "data": {
            "application/vnd.colab-display-data+json": {
              "pip_warning": {
                "packages": [
                  "tensorflow"
                ]
              }
            }
          },
          "metadata": {}
        }
      ]
    },
    {
      "cell_type": "code",
      "source": [
        "filename = '/content/drive/MyDrive/ell319_termpaper/BTP/dataICA.txt'\n",
        "data=pd.read_table(filename, delimiter = '\\t')\n",
        "data"
      ],
      "metadata": {
        "id": "OUbdhd4xdbmv",
        "colab": {
          "base_uri": "https://localhost:8080/",
          "height": 488
        },
        "outputId": "ac08e9fb-683b-4d90-e978-caf96e1a6b1c"
      },
      "execution_count": 65,
      "outputs": [
        {
          "output_type": "execute_result",
          "data": {
            "text/plain": [
              "              Time   Fp1   Fp2    F3    F4    C3    C4    P3    P4    O1  ...  \\\n",
              "0              0.0  2.96  2.49  2.19  2.31  0.29 -1.91 -1.11 -3.25 -0.91  ...   \n",
              "1              2.0  2.79  3.47  2.06  3.24  0.22 -2.17 -0.90 -3.43 -0.58  ...   \n",
              "2              4.0  2.74  4.37  2.05  4.10  0.29 -2.29 -0.67 -3.60 -0.45  ...   \n",
              "3              6.0  2.81  5.08  2.18  4.77  0.54 -2.21 -0.44 -3.69 -0.56  ...   \n",
              "4              8.0  2.94  5.53  2.46  5.17  0.93 -1.90 -0.21 -3.64 -0.92  ...   \n",
              "...            ...   ...   ...   ...   ...   ...   ...   ...   ...   ...  ...   \n",
              "1160565  2321130.0 -1.27  3.74 -0.26  2.26  1.28  3.91  1.65  1.84  0.77  ...   \n",
              "1160566  2321132.0 -0.73  2.78 -0.19  1.19  1.46  3.16  1.74  2.19  1.40  ...   \n",
              "1160567  2321134.0 -0.32  1.28 -0.11  0.29  1.84  2.35  1.87  2.41  1.92  ...   \n",
              "1160568  2321136.0 -0.12 -0.43 -0.02 -0.37  2.34  1.59  2.01  2.49  2.21  ...   \n",
              "1160569  2321138.0 -0.15 -2.04  0.09 -0.79  2.87  0.96  2.13  2.47  2.20  ...   \n",
              "\n",
              "          CP1   CP2   FC5   FC6   CP5   CP6   FT9  FT10   TP9   TP10  \n",
              "0       -0.99 -2.73  0.74 -0.48 -0.57 -2.68  2.65  1.77  1.48   2.98  \n",
              "1       -0.97 -2.15  0.08  0.01 -1.62 -2.95  2.76  1.13  1.36   1.97  \n",
              "2       -0.83 -1.56 -0.45  0.68 -2.55 -3.26  2.85  0.68  0.88   0.44  \n",
              "3       -0.56 -0.97 -0.72  1.38 -3.26 -3.55  2.85  0.45 -0.02  -1.43  \n",
              "4       -0.14 -0.37 -0.69  1.96 -3.71 -3.75  2.73  0.41 -1.28  -3.41  \n",
              "...       ...   ...   ...   ...   ...   ...   ...   ...   ...    ...  \n",
              "1160565  3.62  4.22 -2.75  4.11  0.96  2.41 -3.37 -0.01 -4.98 -27.67  \n",
              "1160566  3.46  3.08 -2.45  2.62  1.60  2.51 -2.66 -0.19 -4.93 -26.23  \n",
              "1160567  3.31  2.02 -1.81  0.80  2.41  2.40 -1.97 -1.00 -4.51 -23.07  \n",
              "1160568  3.16  1.17 -0.91 -1.06  3.23  2.09 -1.39 -2.23 -3.77 -18.79  \n",
              "1160569  3.02  0.61  0.10 -2.67  3.89  1.64 -0.99 -3.64 -2.82 -14.15  \n",
              "\n",
              "[1160570 rows x 32 columns]"
            ],
            "text/html": [
              "\n",
              "  <div id=\"df-54806f06-5164-4af3-be28-16eab62e8a4e\">\n",
              "    <div class=\"colab-df-container\">\n",
              "      <div>\n",
              "<style scoped>\n",
              "    .dataframe tbody tr th:only-of-type {\n",
              "        vertical-align: middle;\n",
              "    }\n",
              "\n",
              "    .dataframe tbody tr th {\n",
              "        vertical-align: top;\n",
              "    }\n",
              "\n",
              "    .dataframe thead th {\n",
              "        text-align: right;\n",
              "    }\n",
              "</style>\n",
              "<table border=\"1\" class=\"dataframe\">\n",
              "  <thead>\n",
              "    <tr style=\"text-align: right;\">\n",
              "      <th></th>\n",
              "      <th>Time</th>\n",
              "      <th>Fp1</th>\n",
              "      <th>Fp2</th>\n",
              "      <th>F3</th>\n",
              "      <th>F4</th>\n",
              "      <th>C3</th>\n",
              "      <th>C4</th>\n",
              "      <th>P3</th>\n",
              "      <th>P4</th>\n",
              "      <th>O1</th>\n",
              "      <th>...</th>\n",
              "      <th>CP1</th>\n",
              "      <th>CP2</th>\n",
              "      <th>FC5</th>\n",
              "      <th>FC6</th>\n",
              "      <th>CP5</th>\n",
              "      <th>CP6</th>\n",
              "      <th>FT9</th>\n",
              "      <th>FT10</th>\n",
              "      <th>TP9</th>\n",
              "      <th>TP10</th>\n",
              "    </tr>\n",
              "  </thead>\n",
              "  <tbody>\n",
              "    <tr>\n",
              "      <th>0</th>\n",
              "      <td>0.0</td>\n",
              "      <td>2.96</td>\n",
              "      <td>2.49</td>\n",
              "      <td>2.19</td>\n",
              "      <td>2.31</td>\n",
              "      <td>0.29</td>\n",
              "      <td>-1.91</td>\n",
              "      <td>-1.11</td>\n",
              "      <td>-3.25</td>\n",
              "      <td>-0.91</td>\n",
              "      <td>...</td>\n",
              "      <td>-0.99</td>\n",
              "      <td>-2.73</td>\n",
              "      <td>0.74</td>\n",
              "      <td>-0.48</td>\n",
              "      <td>-0.57</td>\n",
              "      <td>-2.68</td>\n",
              "      <td>2.65</td>\n",
              "      <td>1.77</td>\n",
              "      <td>1.48</td>\n",
              "      <td>2.98</td>\n",
              "    </tr>\n",
              "    <tr>\n",
              "      <th>1</th>\n",
              "      <td>2.0</td>\n",
              "      <td>2.79</td>\n",
              "      <td>3.47</td>\n",
              "      <td>2.06</td>\n",
              "      <td>3.24</td>\n",
              "      <td>0.22</td>\n",
              "      <td>-2.17</td>\n",
              "      <td>-0.90</td>\n",
              "      <td>-3.43</td>\n",
              "      <td>-0.58</td>\n",
              "      <td>...</td>\n",
              "      <td>-0.97</td>\n",
              "      <td>-2.15</td>\n",
              "      <td>0.08</td>\n",
              "      <td>0.01</td>\n",
              "      <td>-1.62</td>\n",
              "      <td>-2.95</td>\n",
              "      <td>2.76</td>\n",
              "      <td>1.13</td>\n",
              "      <td>1.36</td>\n",
              "      <td>1.97</td>\n",
              "    </tr>\n",
              "    <tr>\n",
              "      <th>2</th>\n",
              "      <td>4.0</td>\n",
              "      <td>2.74</td>\n",
              "      <td>4.37</td>\n",
              "      <td>2.05</td>\n",
              "      <td>4.10</td>\n",
              "      <td>0.29</td>\n",
              "      <td>-2.29</td>\n",
              "      <td>-0.67</td>\n",
              "      <td>-3.60</td>\n",
              "      <td>-0.45</td>\n",
              "      <td>...</td>\n",
              "      <td>-0.83</td>\n",
              "      <td>-1.56</td>\n",
              "      <td>-0.45</td>\n",
              "      <td>0.68</td>\n",
              "      <td>-2.55</td>\n",
              "      <td>-3.26</td>\n",
              "      <td>2.85</td>\n",
              "      <td>0.68</td>\n",
              "      <td>0.88</td>\n",
              "      <td>0.44</td>\n",
              "    </tr>\n",
              "    <tr>\n",
              "      <th>3</th>\n",
              "      <td>6.0</td>\n",
              "      <td>2.81</td>\n",
              "      <td>5.08</td>\n",
              "      <td>2.18</td>\n",
              "      <td>4.77</td>\n",
              "      <td>0.54</td>\n",
              "      <td>-2.21</td>\n",
              "      <td>-0.44</td>\n",
              "      <td>-3.69</td>\n",
              "      <td>-0.56</td>\n",
              "      <td>...</td>\n",
              "      <td>-0.56</td>\n",
              "      <td>-0.97</td>\n",
              "      <td>-0.72</td>\n",
              "      <td>1.38</td>\n",
              "      <td>-3.26</td>\n",
              "      <td>-3.55</td>\n",
              "      <td>2.85</td>\n",
              "      <td>0.45</td>\n",
              "      <td>-0.02</td>\n",
              "      <td>-1.43</td>\n",
              "    </tr>\n",
              "    <tr>\n",
              "      <th>4</th>\n",
              "      <td>8.0</td>\n",
              "      <td>2.94</td>\n",
              "      <td>5.53</td>\n",
              "      <td>2.46</td>\n",
              "      <td>5.17</td>\n",
              "      <td>0.93</td>\n",
              "      <td>-1.90</td>\n",
              "      <td>-0.21</td>\n",
              "      <td>-3.64</td>\n",
              "      <td>-0.92</td>\n",
              "      <td>...</td>\n",
              "      <td>-0.14</td>\n",
              "      <td>-0.37</td>\n",
              "      <td>-0.69</td>\n",
              "      <td>1.96</td>\n",
              "      <td>-3.71</td>\n",
              "      <td>-3.75</td>\n",
              "      <td>2.73</td>\n",
              "      <td>0.41</td>\n",
              "      <td>-1.28</td>\n",
              "      <td>-3.41</td>\n",
              "    </tr>\n",
              "    <tr>\n",
              "      <th>...</th>\n",
              "      <td>...</td>\n",
              "      <td>...</td>\n",
              "      <td>...</td>\n",
              "      <td>...</td>\n",
              "      <td>...</td>\n",
              "      <td>...</td>\n",
              "      <td>...</td>\n",
              "      <td>...</td>\n",
              "      <td>...</td>\n",
              "      <td>...</td>\n",
              "      <td>...</td>\n",
              "      <td>...</td>\n",
              "      <td>...</td>\n",
              "      <td>...</td>\n",
              "      <td>...</td>\n",
              "      <td>...</td>\n",
              "      <td>...</td>\n",
              "      <td>...</td>\n",
              "      <td>...</td>\n",
              "      <td>...</td>\n",
              "      <td>...</td>\n",
              "    </tr>\n",
              "    <tr>\n",
              "      <th>1160565</th>\n",
              "      <td>2321130.0</td>\n",
              "      <td>-1.27</td>\n",
              "      <td>3.74</td>\n",
              "      <td>-0.26</td>\n",
              "      <td>2.26</td>\n",
              "      <td>1.28</td>\n",
              "      <td>3.91</td>\n",
              "      <td>1.65</td>\n",
              "      <td>1.84</td>\n",
              "      <td>0.77</td>\n",
              "      <td>...</td>\n",
              "      <td>3.62</td>\n",
              "      <td>4.22</td>\n",
              "      <td>-2.75</td>\n",
              "      <td>4.11</td>\n",
              "      <td>0.96</td>\n",
              "      <td>2.41</td>\n",
              "      <td>-3.37</td>\n",
              "      <td>-0.01</td>\n",
              "      <td>-4.98</td>\n",
              "      <td>-27.67</td>\n",
              "    </tr>\n",
              "    <tr>\n",
              "      <th>1160566</th>\n",
              "      <td>2321132.0</td>\n",
              "      <td>-0.73</td>\n",
              "      <td>2.78</td>\n",
              "      <td>-0.19</td>\n",
              "      <td>1.19</td>\n",
              "      <td>1.46</td>\n",
              "      <td>3.16</td>\n",
              "      <td>1.74</td>\n",
              "      <td>2.19</td>\n",
              "      <td>1.40</td>\n",
              "      <td>...</td>\n",
              "      <td>3.46</td>\n",
              "      <td>3.08</td>\n",
              "      <td>-2.45</td>\n",
              "      <td>2.62</td>\n",
              "      <td>1.60</td>\n",
              "      <td>2.51</td>\n",
              "      <td>-2.66</td>\n",
              "      <td>-0.19</td>\n",
              "      <td>-4.93</td>\n",
              "      <td>-26.23</td>\n",
              "    </tr>\n",
              "    <tr>\n",
              "      <th>1160567</th>\n",
              "      <td>2321134.0</td>\n",
              "      <td>-0.32</td>\n",
              "      <td>1.28</td>\n",
              "      <td>-0.11</td>\n",
              "      <td>0.29</td>\n",
              "      <td>1.84</td>\n",
              "      <td>2.35</td>\n",
              "      <td>1.87</td>\n",
              "      <td>2.41</td>\n",
              "      <td>1.92</td>\n",
              "      <td>...</td>\n",
              "      <td>3.31</td>\n",
              "      <td>2.02</td>\n",
              "      <td>-1.81</td>\n",
              "      <td>0.80</td>\n",
              "      <td>2.41</td>\n",
              "      <td>2.40</td>\n",
              "      <td>-1.97</td>\n",
              "      <td>-1.00</td>\n",
              "      <td>-4.51</td>\n",
              "      <td>-23.07</td>\n",
              "    </tr>\n",
              "    <tr>\n",
              "      <th>1160568</th>\n",
              "      <td>2321136.0</td>\n",
              "      <td>-0.12</td>\n",
              "      <td>-0.43</td>\n",
              "      <td>-0.02</td>\n",
              "      <td>-0.37</td>\n",
              "      <td>2.34</td>\n",
              "      <td>1.59</td>\n",
              "      <td>2.01</td>\n",
              "      <td>2.49</td>\n",
              "      <td>2.21</td>\n",
              "      <td>...</td>\n",
              "      <td>3.16</td>\n",
              "      <td>1.17</td>\n",
              "      <td>-0.91</td>\n",
              "      <td>-1.06</td>\n",
              "      <td>3.23</td>\n",
              "      <td>2.09</td>\n",
              "      <td>-1.39</td>\n",
              "      <td>-2.23</td>\n",
              "      <td>-3.77</td>\n",
              "      <td>-18.79</td>\n",
              "    </tr>\n",
              "    <tr>\n",
              "      <th>1160569</th>\n",
              "      <td>2321138.0</td>\n",
              "      <td>-0.15</td>\n",
              "      <td>-2.04</td>\n",
              "      <td>0.09</td>\n",
              "      <td>-0.79</td>\n",
              "      <td>2.87</td>\n",
              "      <td>0.96</td>\n",
              "      <td>2.13</td>\n",
              "      <td>2.47</td>\n",
              "      <td>2.20</td>\n",
              "      <td>...</td>\n",
              "      <td>3.02</td>\n",
              "      <td>0.61</td>\n",
              "      <td>0.10</td>\n",
              "      <td>-2.67</td>\n",
              "      <td>3.89</td>\n",
              "      <td>1.64</td>\n",
              "      <td>-0.99</td>\n",
              "      <td>-3.64</td>\n",
              "      <td>-2.82</td>\n",
              "      <td>-14.15</td>\n",
              "    </tr>\n",
              "  </tbody>\n",
              "</table>\n",
              "<p>1160570 rows × 32 columns</p>\n",
              "</div>\n",
              "      <button class=\"colab-df-convert\" onclick=\"convertToInteractive('df-54806f06-5164-4af3-be28-16eab62e8a4e')\"\n",
              "              title=\"Convert this dataframe to an interactive table.\"\n",
              "              style=\"display:none;\">\n",
              "        \n",
              "  <svg xmlns=\"http://www.w3.org/2000/svg\" height=\"24px\"viewBox=\"0 0 24 24\"\n",
              "       width=\"24px\">\n",
              "    <path d=\"M0 0h24v24H0V0z\" fill=\"none\"/>\n",
              "    <path d=\"M18.56 5.44l.94 2.06.94-2.06 2.06-.94-2.06-.94-.94-2.06-.94 2.06-2.06.94zm-11 1L8.5 8.5l.94-2.06 2.06-.94-2.06-.94L8.5 2.5l-.94 2.06-2.06.94zm10 10l.94 2.06.94-2.06 2.06-.94-2.06-.94-.94-2.06-.94 2.06-2.06.94z\"/><path d=\"M17.41 7.96l-1.37-1.37c-.4-.4-.92-.59-1.43-.59-.52 0-1.04.2-1.43.59L10.3 9.45l-7.72 7.72c-.78.78-.78 2.05 0 2.83L4 21.41c.39.39.9.59 1.41.59.51 0 1.02-.2 1.41-.59l7.78-7.78 2.81-2.81c.8-.78.8-2.07 0-2.86zM5.41 20L4 18.59l7.72-7.72 1.47 1.35L5.41 20z\"/>\n",
              "  </svg>\n",
              "      </button>\n",
              "      \n",
              "  <style>\n",
              "    .colab-df-container {\n",
              "      display:flex;\n",
              "      flex-wrap:wrap;\n",
              "      gap: 12px;\n",
              "    }\n",
              "\n",
              "    .colab-df-convert {\n",
              "      background-color: #E8F0FE;\n",
              "      border: none;\n",
              "      border-radius: 50%;\n",
              "      cursor: pointer;\n",
              "      display: none;\n",
              "      fill: #1967D2;\n",
              "      height: 32px;\n",
              "      padding: 0 0 0 0;\n",
              "      width: 32px;\n",
              "    }\n",
              "\n",
              "    .colab-df-convert:hover {\n",
              "      background-color: #E2EBFA;\n",
              "      box-shadow: 0px 1px 2px rgba(60, 64, 67, 0.3), 0px 1px 3px 1px rgba(60, 64, 67, 0.15);\n",
              "      fill: #174EA6;\n",
              "    }\n",
              "\n",
              "    [theme=dark] .colab-df-convert {\n",
              "      background-color: #3B4455;\n",
              "      fill: #D2E3FC;\n",
              "    }\n",
              "\n",
              "    [theme=dark] .colab-df-convert:hover {\n",
              "      background-color: #434B5C;\n",
              "      box-shadow: 0px 1px 3px 1px rgba(0, 0, 0, 0.15);\n",
              "      filter: drop-shadow(0px 1px 2px rgba(0, 0, 0, 0.3));\n",
              "      fill: #FFFFFF;\n",
              "    }\n",
              "  </style>\n",
              "\n",
              "      <script>\n",
              "        const buttonEl =\n",
              "          document.querySelector('#df-54806f06-5164-4af3-be28-16eab62e8a4e button.colab-df-convert');\n",
              "        buttonEl.style.display =\n",
              "          google.colab.kernel.accessAllowed ? 'block' : 'none';\n",
              "\n",
              "        async function convertToInteractive(key) {\n",
              "          const element = document.querySelector('#df-54806f06-5164-4af3-be28-16eab62e8a4e');\n",
              "          const dataTable =\n",
              "            await google.colab.kernel.invokeFunction('convertToInteractive',\n",
              "                                                     [key], {});\n",
              "          if (!dataTable) return;\n",
              "\n",
              "          const docLinkHtml = 'Like what you see? Visit the ' +\n",
              "            '<a target=\"_blank\" href=https://colab.research.google.com/notebooks/data_table.ipynb>data table notebook</a>'\n",
              "            + ' to learn more about interactive tables.';\n",
              "          element.innerHTML = '';\n",
              "          dataTable['output_type'] = 'display_data';\n",
              "          await google.colab.output.renderOutput(dataTable, element);\n",
              "          const docLink = document.createElement('div');\n",
              "          docLink.innerHTML = docLinkHtml;\n",
              "          element.appendChild(docLink);\n",
              "        }\n",
              "      </script>\n",
              "    </div>\n",
              "  </div>\n",
              "  "
            ]
          },
          "metadata": {},
          "execution_count": 65
        }
      ]
    },
    {
      "cell_type": "code",
      "source": [
        "filename_events = '/content/drive/MyDrive/ell319_termpaper/BTP/events.txt'\n",
        "data_events=pd.read_table(filename_events, delimiter = '\\t')\n",
        "data_events"
      ],
      "metadata": {
        "colab": {
          "base_uri": "https://localhost:8080/",
          "height": 424
        },
        "id": "P5KkFc99siAa",
        "outputId": "4e901f89-d116-4c4e-90fa-c1bc1dec96be"
      },
      "execution_count": 66,
      "outputs": [
        {
          "output_type": "execute_result",
          "data": {
            "text/plain": [
              "      number    latency  duration  channel        bvtime  bvmknum  visible  \\\n",
              "0        1.0        1.0       NaN      0.0  1.094600e+09      1.0      NaN   \n",
              "1        2.0    16401.0       1.0      0.0           NaN      2.0      NaN   \n",
              "2        3.0    17191.0       1.0      0.0           NaN      3.0      NaN   \n",
              "3        4.0    17491.0       1.0      0.0           NaN      4.0      NaN   \n",
              "4        5.0    18381.0       1.0      0.0           NaN      5.0      NaN   \n",
              "...      ...        ...       ...      ...           ...      ...      ...   \n",
              "2614  2615.0  1158691.0       1.0      0.0           NaN    257.0      NaN   \n",
              "2615  2616.0  1158851.0       1.0      0.0           NaN    258.0      NaN   \n",
              "2616  2617.0  1159531.0       1.0      0.0           NaN    259.0      NaN   \n",
              "2617  2618.0  1159671.0       1.0      0.0           NaN    260.0      NaN   \n",
              "2618  2619.0  1160321.0       1.0      0.0           NaN    261.0      NaN   \n",
              "\n",
              "          type         code  urevent  \n",
              "0     boundary  New Segment      1.0  \n",
              "1            A         STIM      2.0  \n",
              "2           PP         STIM      3.0  \n",
              "3            B         STIM      4.0  \n",
              "4           PP         STIM      5.0  \n",
              "...        ...          ...      ...  \n",
              "2614        PP         STIM   2615.0  \n",
              "2615         Y         STIM   2616.0  \n",
              "2616        PP         STIM   2617.0  \n",
              "2617         Z         STIM   2618.0  \n",
              "2618        PP         STIM   2619.0  \n",
              "\n",
              "[2619 rows x 10 columns]"
            ],
            "text/html": [
              "\n",
              "  <div id=\"df-508f581a-3aa0-4bdd-b8b2-264400efba85\">\n",
              "    <div class=\"colab-df-container\">\n",
              "      <div>\n",
              "<style scoped>\n",
              "    .dataframe tbody tr th:only-of-type {\n",
              "        vertical-align: middle;\n",
              "    }\n",
              "\n",
              "    .dataframe tbody tr th {\n",
              "        vertical-align: top;\n",
              "    }\n",
              "\n",
              "    .dataframe thead th {\n",
              "        text-align: right;\n",
              "    }\n",
              "</style>\n",
              "<table border=\"1\" class=\"dataframe\">\n",
              "  <thead>\n",
              "    <tr style=\"text-align: right;\">\n",
              "      <th></th>\n",
              "      <th>number</th>\n",
              "      <th>latency</th>\n",
              "      <th>duration</th>\n",
              "      <th>channel</th>\n",
              "      <th>bvtime</th>\n",
              "      <th>bvmknum</th>\n",
              "      <th>visible</th>\n",
              "      <th>type</th>\n",
              "      <th>code</th>\n",
              "      <th>urevent</th>\n",
              "    </tr>\n",
              "  </thead>\n",
              "  <tbody>\n",
              "    <tr>\n",
              "      <th>0</th>\n",
              "      <td>1.0</td>\n",
              "      <td>1.0</td>\n",
              "      <td>NaN</td>\n",
              "      <td>0.0</td>\n",
              "      <td>1.094600e+09</td>\n",
              "      <td>1.0</td>\n",
              "      <td>NaN</td>\n",
              "      <td>boundary</td>\n",
              "      <td>New Segment</td>\n",
              "      <td>1.0</td>\n",
              "    </tr>\n",
              "    <tr>\n",
              "      <th>1</th>\n",
              "      <td>2.0</td>\n",
              "      <td>16401.0</td>\n",
              "      <td>1.0</td>\n",
              "      <td>0.0</td>\n",
              "      <td>NaN</td>\n",
              "      <td>2.0</td>\n",
              "      <td>NaN</td>\n",
              "      <td>A</td>\n",
              "      <td>STIM</td>\n",
              "      <td>2.0</td>\n",
              "    </tr>\n",
              "    <tr>\n",
              "      <th>2</th>\n",
              "      <td>3.0</td>\n",
              "      <td>17191.0</td>\n",
              "      <td>1.0</td>\n",
              "      <td>0.0</td>\n",
              "      <td>NaN</td>\n",
              "      <td>3.0</td>\n",
              "      <td>NaN</td>\n",
              "      <td>PP</td>\n",
              "      <td>STIM</td>\n",
              "      <td>3.0</td>\n",
              "    </tr>\n",
              "    <tr>\n",
              "      <th>3</th>\n",
              "      <td>4.0</td>\n",
              "      <td>17491.0</td>\n",
              "      <td>1.0</td>\n",
              "      <td>0.0</td>\n",
              "      <td>NaN</td>\n",
              "      <td>4.0</td>\n",
              "      <td>NaN</td>\n",
              "      <td>B</td>\n",
              "      <td>STIM</td>\n",
              "      <td>4.0</td>\n",
              "    </tr>\n",
              "    <tr>\n",
              "      <th>4</th>\n",
              "      <td>5.0</td>\n",
              "      <td>18381.0</td>\n",
              "      <td>1.0</td>\n",
              "      <td>0.0</td>\n",
              "      <td>NaN</td>\n",
              "      <td>5.0</td>\n",
              "      <td>NaN</td>\n",
              "      <td>PP</td>\n",
              "      <td>STIM</td>\n",
              "      <td>5.0</td>\n",
              "    </tr>\n",
              "    <tr>\n",
              "      <th>...</th>\n",
              "      <td>...</td>\n",
              "      <td>...</td>\n",
              "      <td>...</td>\n",
              "      <td>...</td>\n",
              "      <td>...</td>\n",
              "      <td>...</td>\n",
              "      <td>...</td>\n",
              "      <td>...</td>\n",
              "      <td>...</td>\n",
              "      <td>...</td>\n",
              "    </tr>\n",
              "    <tr>\n",
              "      <th>2614</th>\n",
              "      <td>2615.0</td>\n",
              "      <td>1158691.0</td>\n",
              "      <td>1.0</td>\n",
              "      <td>0.0</td>\n",
              "      <td>NaN</td>\n",
              "      <td>257.0</td>\n",
              "      <td>NaN</td>\n",
              "      <td>PP</td>\n",
              "      <td>STIM</td>\n",
              "      <td>2615.0</td>\n",
              "    </tr>\n",
              "    <tr>\n",
              "      <th>2615</th>\n",
              "      <td>2616.0</td>\n",
              "      <td>1158851.0</td>\n",
              "      <td>1.0</td>\n",
              "      <td>0.0</td>\n",
              "      <td>NaN</td>\n",
              "      <td>258.0</td>\n",
              "      <td>NaN</td>\n",
              "      <td>Y</td>\n",
              "      <td>STIM</td>\n",
              "      <td>2616.0</td>\n",
              "    </tr>\n",
              "    <tr>\n",
              "      <th>2616</th>\n",
              "      <td>2617.0</td>\n",
              "      <td>1159531.0</td>\n",
              "      <td>1.0</td>\n",
              "      <td>0.0</td>\n",
              "      <td>NaN</td>\n",
              "      <td>259.0</td>\n",
              "      <td>NaN</td>\n",
              "      <td>PP</td>\n",
              "      <td>STIM</td>\n",
              "      <td>2617.0</td>\n",
              "    </tr>\n",
              "    <tr>\n",
              "      <th>2617</th>\n",
              "      <td>2618.0</td>\n",
              "      <td>1159671.0</td>\n",
              "      <td>1.0</td>\n",
              "      <td>0.0</td>\n",
              "      <td>NaN</td>\n",
              "      <td>260.0</td>\n",
              "      <td>NaN</td>\n",
              "      <td>Z</td>\n",
              "      <td>STIM</td>\n",
              "      <td>2618.0</td>\n",
              "    </tr>\n",
              "    <tr>\n",
              "      <th>2618</th>\n",
              "      <td>2619.0</td>\n",
              "      <td>1160321.0</td>\n",
              "      <td>1.0</td>\n",
              "      <td>0.0</td>\n",
              "      <td>NaN</td>\n",
              "      <td>261.0</td>\n",
              "      <td>NaN</td>\n",
              "      <td>PP</td>\n",
              "      <td>STIM</td>\n",
              "      <td>2619.0</td>\n",
              "    </tr>\n",
              "  </tbody>\n",
              "</table>\n",
              "<p>2619 rows × 10 columns</p>\n",
              "</div>\n",
              "      <button class=\"colab-df-convert\" onclick=\"convertToInteractive('df-508f581a-3aa0-4bdd-b8b2-264400efba85')\"\n",
              "              title=\"Convert this dataframe to an interactive table.\"\n",
              "              style=\"display:none;\">\n",
              "        \n",
              "  <svg xmlns=\"http://www.w3.org/2000/svg\" height=\"24px\"viewBox=\"0 0 24 24\"\n",
              "       width=\"24px\">\n",
              "    <path d=\"M0 0h24v24H0V0z\" fill=\"none\"/>\n",
              "    <path d=\"M18.56 5.44l.94 2.06.94-2.06 2.06-.94-2.06-.94-.94-2.06-.94 2.06-2.06.94zm-11 1L8.5 8.5l.94-2.06 2.06-.94-2.06-.94L8.5 2.5l-.94 2.06-2.06.94zm10 10l.94 2.06.94-2.06 2.06-.94-2.06-.94-.94-2.06-.94 2.06-2.06.94z\"/><path d=\"M17.41 7.96l-1.37-1.37c-.4-.4-.92-.59-1.43-.59-.52 0-1.04.2-1.43.59L10.3 9.45l-7.72 7.72c-.78.78-.78 2.05 0 2.83L4 21.41c.39.39.9.59 1.41.59.51 0 1.02-.2 1.41-.59l7.78-7.78 2.81-2.81c.8-.78.8-2.07 0-2.86zM5.41 20L4 18.59l7.72-7.72 1.47 1.35L5.41 20z\"/>\n",
              "  </svg>\n",
              "      </button>\n",
              "      \n",
              "  <style>\n",
              "    .colab-df-container {\n",
              "      display:flex;\n",
              "      flex-wrap:wrap;\n",
              "      gap: 12px;\n",
              "    }\n",
              "\n",
              "    .colab-df-convert {\n",
              "      background-color: #E8F0FE;\n",
              "      border: none;\n",
              "      border-radius: 50%;\n",
              "      cursor: pointer;\n",
              "      display: none;\n",
              "      fill: #1967D2;\n",
              "      height: 32px;\n",
              "      padding: 0 0 0 0;\n",
              "      width: 32px;\n",
              "    }\n",
              "\n",
              "    .colab-df-convert:hover {\n",
              "      background-color: #E2EBFA;\n",
              "      box-shadow: 0px 1px 2px rgba(60, 64, 67, 0.3), 0px 1px 3px 1px rgba(60, 64, 67, 0.15);\n",
              "      fill: #174EA6;\n",
              "    }\n",
              "\n",
              "    [theme=dark] .colab-df-convert {\n",
              "      background-color: #3B4455;\n",
              "      fill: #D2E3FC;\n",
              "    }\n",
              "\n",
              "    [theme=dark] .colab-df-convert:hover {\n",
              "      background-color: #434B5C;\n",
              "      box-shadow: 0px 1px 3px 1px rgba(0, 0, 0, 0.15);\n",
              "      filter: drop-shadow(0px 1px 2px rgba(0, 0, 0, 0.3));\n",
              "      fill: #FFFFFF;\n",
              "    }\n",
              "  </style>\n",
              "\n",
              "      <script>\n",
              "        const buttonEl =\n",
              "          document.querySelector('#df-508f581a-3aa0-4bdd-b8b2-264400efba85 button.colab-df-convert');\n",
              "        buttonEl.style.display =\n",
              "          google.colab.kernel.accessAllowed ? 'block' : 'none';\n",
              "\n",
              "        async function convertToInteractive(key) {\n",
              "          const element = document.querySelector('#df-508f581a-3aa0-4bdd-b8b2-264400efba85');\n",
              "          const dataTable =\n",
              "            await google.colab.kernel.invokeFunction('convertToInteractive',\n",
              "                                                     [key], {});\n",
              "          if (!dataTable) return;\n",
              "\n",
              "          const docLinkHtml = 'Like what you see? Visit the ' +\n",
              "            '<a target=\"_blank\" href=https://colab.research.google.com/notebooks/data_table.ipynb>data table notebook</a>'\n",
              "            + ' to learn more about interactive tables.';\n",
              "          element.innerHTML = '';\n",
              "          dataTable['output_type'] = 'display_data';\n",
              "          await google.colab.output.renderOutput(dataTable, element);\n",
              "          const docLink = document.createElement('div');\n",
              "          docLink.innerHTML = docLinkHtml;\n",
              "          element.appendChild(docLink);\n",
              "        }\n",
              "      </script>\n",
              "    </div>\n",
              "  </div>\n",
              "  "
            ]
          },
          "metadata": {},
          "execution_count": 66
        }
      ]
    },
    {
      "cell_type": "code",
      "source": [
        "al = ['A','B','C','D','E','F','G','H','I','J','K','L','M','N','O','P','Q','R','S','T','U','V','W','X','Y','Z']\n",
        "df_req = pd.DataFrame()\n",
        "seq_gen = [];\n",
        "big_array = [] #  empty regular list\n",
        "for i in range(1300):\n",
        "    arr = i*np.ones((250,32)) # for instance\n",
        "    big_array.append(arr)\n",
        "big_np_array = np.array(big_array)  \n",
        "\n",
        "c = 0\n",
        "for j in range(26):\n",
        "    data_a = data;\n",
        "    for ind in data_events.index:\n",
        "        if data_events['type'][ind]==al[j]:\n",
        "            low = data_events['latency'][ind]-250;\n",
        "            high = data_events['latency'][ind]+250;\n",
        "            d_x = data_a.loc[(data_a['Time'] >= low) & (data_a['Time'] <= high)]\n",
        "            d_x.drop(['Time'], axis=1, inplace=True);\n",
        "            d_x['Label'] = (j+1);\n",
        "            d_x.to_numpy()\n",
        "            big_np_array[c] = d_x;\n",
        "            c = c+1\n",
        "        else:\n",
        "            continue;\n",
        "print(big_np_array.shape)\n",
        "seq_array = big_np_array\n",
        "seq_array"
      ],
      "metadata": {
        "colab": {
          "base_uri": "https://localhost:8080/"
        },
        "id": "keIas5TGslYC",
        "outputId": "89f9181d-fb00-4679-9a4e-c0d3c5e1afe3"
      },
      "execution_count": 67,
      "outputs": [
        {
          "output_type": "stream",
          "name": "stderr",
          "text": [
            "/usr/local/lib/python3.7/dist-packages/pandas/core/frame.py:4913: SettingWithCopyWarning: \n",
            "A value is trying to be set on a copy of a slice from a DataFrame\n",
            "\n",
            "See the caveats in the documentation: https://pandas.pydata.org/pandas-docs/stable/user_guide/indexing.html#returning-a-view-versus-a-copy\n",
            "  errors=errors,\n",
            "/usr/local/lib/python3.7/dist-packages/ipykernel_launcher.py:19: SettingWithCopyWarning: \n",
            "A value is trying to be set on a copy of a slice from a DataFrame.\n",
            "Try using .loc[row_indexer,col_indexer] = value instead\n",
            "\n",
            "See the caveats in the documentation: https://pandas.pydata.org/pandas-docs/stable/user_guide/indexing.html#returning-a-view-versus-a-copy\n"
          ]
        },
        {
          "output_type": "stream",
          "name": "stdout",
          "text": [
            "(1300, 250, 32)\n"
          ]
        },
        {
          "output_type": "execute_result",
          "data": {
            "text/plain": [
              "array([[[ 2.910e+00,  5.480e+00,  7.000e-02, ..., -4.840e+00,\n",
              "          2.970e+00,  1.000e+00],\n",
              "        [ 2.810e+00,  5.890e+00, -2.900e-01, ..., -5.110e+00,\n",
              "          3.360e+00,  1.000e+00],\n",
              "        [ 2.190e+00,  6.040e+00, -7.700e-01, ..., -4.580e+00,\n",
              "          3.490e+00,  1.000e+00],\n",
              "        ...,\n",
              "        [-4.050e+00, -2.990e+00,  4.500e-01, ..., -4.520e+00,\n",
              "          9.000e-01,  1.000e+00],\n",
              "        [-3.360e+00, -2.200e+00,  4.200e-01, ..., -4.000e+00,\n",
              "          2.210e+00,  1.000e+00],\n",
              "        [-2.350e+00, -2.060e+00,  2.500e-01, ..., -3.150e+00,\n",
              "          2.840e+00,  1.000e+00]],\n",
              "\n",
              "       [[-3.210e+00, -5.120e+00,  1.300e-01, ...,  8.310e+00,\n",
              "         -1.650e+00,  1.000e+00],\n",
              "        [-3.770e+00, -5.490e+00,  1.800e-01, ...,  1.014e+01,\n",
              "         -6.000e-01,  1.000e+00],\n",
              "        [-4.380e+00, -5.720e+00,  3.600e-01, ...,  1.132e+01,\n",
              "          7.400e-01,  1.000e+00],\n",
              "        ...,\n",
              "        [ 1.880e+00,  2.710e+00,  4.510e+00, ..., -2.400e+00,\n",
              "         -1.235e+01,  1.000e+00],\n",
              "        [ 1.490e+00,  2.840e+00,  4.190e+00, ..., -3.900e-01,\n",
              "         -9.910e+00,  1.000e+00],\n",
              "        [ 1.140e+00,  2.790e+00,  3.690e+00, ...,  5.400e-01,\n",
              "         -7.680e+00,  1.000e+00]],\n",
              "\n",
              "       [[-2.050e+00, -1.980e+00,  8.600e-01, ..., -9.300e-01,\n",
              "         -2.100e-01,  1.000e+00],\n",
              "        [-2.910e+00, -2.210e+00,  1.110e+00, ...,  4.900e-01,\n",
              "          2.380e+00,  1.000e+00],\n",
              "        [-3.330e+00, -2.820e+00,  1.250e+00, ...,  1.200e+00,\n",
              "          4.570e+00,  1.000e+00],\n",
              "        ...,\n",
              "        [ 1.310e+00, -2.300e+00,  7.600e-01, ...,  2.300e+00,\n",
              "         -7.620e+00,  1.000e+00],\n",
              "        [ 1.650e+00, -2.230e+00,  8.300e-01, ...,  2.000e+00,\n",
              "         -5.750e+00,  1.000e+00],\n",
              "        [ 1.660e+00, -1.380e+00,  7.500e-01, ...,  1.230e+00,\n",
              "         -3.340e+00,  1.000e+00]],\n",
              "\n",
              "       ...,\n",
              "\n",
              "       [[ 3.400e+00,  2.300e+00, -3.400e-01, ..., -2.610e+00,\n",
              "         -9.760e+00,  2.600e+01],\n",
              "        [ 3.110e+00,  2.880e+00, -3.400e-01, ..., -2.180e+00,\n",
              "         -1.131e+01,  2.600e+01],\n",
              "        [ 2.690e+00,  3.280e+00, -4.600e-01, ..., -1.210e+00,\n",
              "         -1.160e+01,  2.600e+01],\n",
              "        ...,\n",
              "        [ 4.000e-01, -3.900e-01, -4.300e-01, ..., -3.110e+00,\n",
              "         -5.300e-01,  2.600e+01],\n",
              "        [ 4.200e-01,  1.040e+00, -5.300e-01, ..., -2.710e+00,\n",
              "         -1.080e+00,  2.600e+01],\n",
              "        [ 2.700e-01,  2.500e+00, -7.100e-01, ..., -2.350e+00,\n",
              "         -2.220e+00,  2.600e+01]],\n",
              "\n",
              "       [[ 1.020e+00,  2.470e+00,  3.420e+00, ...,  3.580e+00,\n",
              "         -9.600e+00,  2.600e+01],\n",
              "        [ 9.500e-01,  4.120e+00,  3.810e+00, ...,  4.170e+00,\n",
              "         -1.170e+01,  2.600e+01],\n",
              "        [ 8.800e-01,  5.400e+00,  3.860e+00, ...,  4.690e+00,\n",
              "         -1.271e+01,  2.600e+01],\n",
              "        ...,\n",
              "        [ 1.670e+00,  2.260e+00,  2.570e+00, ...,  5.930e+00,\n",
              "          1.970e+00,  2.600e+01],\n",
              "        [ 1.620e+00,  2.730e+00,  2.720e+00, ...,  6.700e+00,\n",
              "         -1.000e+00,  2.600e+01],\n",
              "        [ 1.800e+00,  2.930e+00,  2.950e+00, ...,  7.680e+00,\n",
              "         -3.830e+00,  2.600e+01]],\n",
              "\n",
              "       [[ 1.100e-01, -2.960e+00, -1.420e+00, ...,  7.170e+00,\n",
              "         -5.000e-02,  2.600e+01],\n",
              "        [-3.000e-02, -2.010e+00, -1.950e+00, ...,  6.670e+00,\n",
              "          2.210e+00,  2.600e+01],\n",
              "        [ 2.000e-02, -6.800e-01, -2.270e+00, ...,  5.370e+00,\n",
              "          3.490e+00,  2.600e+01],\n",
              "        ...,\n",
              "        [ 6.290e+00,  7.070e+00,  8.040e+00, ..., -1.100e-01,\n",
              "         -3.050e+00,  2.600e+01],\n",
              "        [ 7.080e+00,  7.080e+00,  8.390e+00, ..., -5.000e-02,\n",
              "         -4.100e+00,  2.600e+01],\n",
              "        [ 7.870e+00,  6.600e+00,  8.610e+00, ...,  3.600e-01,\n",
              "         -5.730e+00,  2.600e+01]]])"
            ]
          },
          "metadata": {},
          "execution_count": 67
        }
      ]
    },
    {
      "cell_type": "code",
      "source": [
        "from sklearn.utils import shuffle\n",
        "seq_array = shuffle(seq_array)\n",
        "print(seq_array.shape)"
      ],
      "metadata": {
        "colab": {
          "base_uri": "https://localhost:8080/"
        },
        "id": "KgJzArJ4xnLC",
        "outputId": "6ed854ee-043e-4e46-bb93-8cbda338c5b5"
      },
      "execution_count": 68,
      "outputs": [
        {
          "output_type": "stream",
          "name": "stdout",
          "text": [
            "(1300, 250, 32)\n"
          ]
        }
      ]
    },
    {
      "cell_type": "code",
      "source": [
        "\n",
        "kernels, chans, samples = 1, 31, 250\n",
        "\n",
        "train_final=seq_array[0:900,:,0:31]\n",
        "train_final_validate=seq_array[900:1100,:,0:31]\n",
        "\n",
        "test_final=seq_array[1100:1300,:,0:31]\n",
        "from sklearn import preprocessing\n",
        "\n",
        "train_label=seq_array[0:900,0,31]\n",
        "train_label_validate=seq_array[900:1100,0,31]\n",
        "train_label_comp=seq_array[0:1100,0,31]\n",
        "\n",
        "test_label=seq_array[1100:1300,0,31]\n",
        "\n",
        "train_label=train_label.reshape((train_label.shape[0],1))\n",
        "train_label=train_label.astype('int')\n",
        "\n",
        "train_label_validate=train_label_validate.reshape((train_label_validate.shape[0],1))\n",
        "train_label_validate=train_label_validate.astype('int')\n",
        "\n",
        "train_label_comp=train_label_comp.reshape((train_label_comp.shape[0],1))\n",
        "train_label_comp=train_label_comp.astype('int')\n",
        "\n",
        "test_label=test_label.astype('int')\n",
        "print(train_final.shape)\n",
        "print(train_label.shape)\n",
        "print(train_final_validate.shape)\n",
        "print(train_label_validate.shape)\n",
        "print(test_final.shape)\n",
        "print(test_label.shape)"
      ],
      "metadata": {
        "colab": {
          "base_uri": "https://localhost:8080/"
        },
        "id": "tEr9AeFcuaFh",
        "outputId": "f3a7b9f2-c6f5-4b7e-a68e-a92bd6e6705e"
      },
      "execution_count": 73,
      "outputs": [
        {
          "output_type": "stream",
          "name": "stdout",
          "text": [
            "(900, 250, 31)\n",
            "(900, 1)\n",
            "(200, 250, 31)\n",
            "(200, 1)\n",
            "(200, 250, 31)\n",
            "(200,)\n"
          ]
        }
      ]
    },
    {
      "cell_type": "code",
      "source": [
        "from sklearn.preprocessing import LabelEncoder\n",
        "encoder = LabelEncoder()\n",
        "encoder.fit(train_label_comp)\n",
        "train_label = encoder.transform(train_label)\n",
        "train_label_validate = encoder.transform(train_label_validate)\n",
        "test_label = encoder.transform(test_label)"
      ],
      "metadata": {
        "colab": {
          "base_uri": "https://localhost:8080/"
        },
        "id": "aIpHl8W5uhdJ",
        "outputId": "84c0c77d-e304-43d8-ed06-00b5ed44a42a"
      },
      "execution_count": 74,
      "outputs": [
        {
          "output_type": "stream",
          "name": "stderr",
          "text": [
            "/usr/local/lib/python3.7/dist-packages/sklearn/preprocessing/_label.py:98: DataConversionWarning: A column-vector y was passed when a 1d array was expected. Please change the shape of y to (n_samples, ), for example using ravel().\n",
            "  y = column_or_1d(y, warn=True)\n",
            "/usr/local/lib/python3.7/dist-packages/sklearn/preprocessing/_label.py:133: DataConversionWarning: A column-vector y was passed when a 1d array was expected. Please change the shape of y to (n_samples, ), for example using ravel().\n",
            "  y = column_or_1d(y, warn=True)\n"
          ]
        }
      ]
    },
    {
      "cell_type": "code",
      "source": [
        "train_final = train_final.reshape(train_final.shape[0], chans, samples, kernels)\n",
        "train_final_validate = train_final_validate.reshape(train_final_validate.shape[0], chans, samples, kernels)\n",
        "test_final = test_final.reshape(test_final.shape[0], chans, samples, kernels)"
      ],
      "metadata": {
        "id": "kYA-v8JC29ZN"
      },
      "execution_count": 75,
      "outputs": []
    },
    {
      "cell_type": "code",
      "source": [
        "\n",
        "# from keras.utils import np_utils\n",
        "\n",
        "train_label = np_utils.to_categorical(train_label)\n",
        "train_final = np.asarray(train_final).astype(np.float32)\n",
        "\n",
        "train_label_validate = np_utils.to_categorical(train_label_validate)\n",
        "train_final_validate = np.asarray(train_final_validate).astype(np.float32)\n",
        "\n",
        "test_final = np.asarray(test_final).astype(np.float32)"
      ],
      "metadata": {
        "id": "z9VDojUox5JN"
      },
      "execution_count": 76,
      "outputs": []
    },
    {
      "cell_type": "code",
      "source": [
        "model = EEGNet(nb_classes = 26, Chans = chans, Samples = samples, \n",
        "               dropoutRate = 0.5, kernLength = 32, F1 = 8, D = 2, F2 = 16, \n",
        "               dropoutType = 'Dropout')\n",
        "model.compile(loss='categorical_crossentropy', optimizer='adam', \n",
        "              metrics = ['accuracy'])\n",
        "\n",
        "# count number of parameters in the model\n",
        "numParams    = model.count_params()    \n",
        "print(numParams)"
      ],
      "metadata": {
        "colab": {
          "base_uri": "https://localhost:8080/"
        },
        "id": "C1-SiidrtgBQ",
        "outputId": "1cc86fa1-2f2f-455e-e838-939ddf0aaffd"
      },
      "execution_count": 77,
      "outputs": [
        {
          "output_type": "stream",
          "name": "stdout",
          "text": [
            "4362\n"
          ]
        }
      ]
    },
    {
      "cell_type": "code",
      "source": [
        "checkpointer = ModelCheckpoint(filepath='/tmp/checkpoint.h5', verbose=1,\n",
        "                               save_best_only=True)\n",
        "class_weights = {0:1, 1:1, 2:1, 3:1, 4:1, 5:1, 6:1, 7:1, 8:1, 9:1, 10:1, 11:1, 12:1, 13:1, 14:1, 15:1, 16:1, 17:1, 18:1, 19:1, 20:1, 21:1, 22:1, 23:1, 24:1, 25:1, 26:1}"
      ],
      "metadata": {
        "id": "C9UsJTirt9gh"
      },
      "execution_count": 78,
      "outputs": []
    },
    {
      "cell_type": "code",
      "source": [
        "fittedModel = model.fit(train_final, train_label, batch_size = 16, epochs = 5, verbose = 2, validation_data=(train_final_validate, train_label_validate),callbacks=[checkpointer], class_weight = class_weights)"
      ],
      "metadata": {
        "colab": {
          "base_uri": "https://localhost:8080/"
        },
        "id": "aiKkkB0huOtZ",
        "outputId": "a44bffbe-cb05-454a-8806-4a582aa2a202"
      },
      "execution_count": 79,
      "outputs": [
        {
          "output_type": "stream",
          "name": "stdout",
          "text": [
            "Train on 900 samples, validate on 200 samples\n",
            "Epoch 1/5\n",
            "\n",
            "Epoch 00001: val_loss improved from inf to 3.25820, saving model to /tmp/checkpoint.h5\n",
            "900/900 - 7s - loss: 3.2720 - acc: 0.0300 - val_loss: 3.2582 - val_acc: 0.0350\n",
            "Epoch 2/5\n",
            "\n",
            "Epoch 00002: val_loss did not improve from 3.25820\n",
            "900/900 - 6s - loss: 3.2567 - acc: 0.0467 - val_loss: 3.2587 - val_acc: 0.0350\n",
            "Epoch 3/5\n",
            "\n",
            "Epoch 00003: val_loss did not improve from 3.25820\n",
            "900/900 - 6s - loss: 3.2521 - acc: 0.0444 - val_loss: 3.2602 - val_acc: 0.0400\n",
            "Epoch 4/5\n",
            "\n",
            "Epoch 00004: val_loss did not improve from 3.25820\n",
            "900/900 - 7s - loss: 3.2482 - acc: 0.0578 - val_loss: 3.2619 - val_acc: 0.0350\n",
            "Epoch 5/5\n",
            "\n",
            "Epoch 00005: val_loss did not improve from 3.25820\n",
            "900/900 - 7s - loss: 3.2430 - acc: 0.0522 - val_loss: 3.2661 - val_acc: 0.0350\n"
          ]
        }
      ]
    },
    {
      "cell_type": "code",
      "source": [
        "probs       = model.predict(test_final)\n",
        "preds       = probs.argmax(axis = -1)  \n",
        "acc         = np.mean(preds == test_label.argmax(axis=-1))\n",
        "print(\"Classification accuracy: %f \" % (acc))"
      ],
      "metadata": {
        "colab": {
          "base_uri": "https://localhost:8080/"
        },
        "id": "vn5XC9wk1pfe",
        "outputId": "89f25866-fe45-4bca-eb89-d65077b12097"
      },
      "execution_count": 80,
      "outputs": [
        {
          "output_type": "stream",
          "name": "stdout",
          "text": [
            "Classification accuracy: 0.020000 \n"
          ]
        }
      ]
    },
    {
      "cell_type": "code",
      "source": [
        "# names = ['A','B','C','D','E','F','G','H','I','J','K','L','M','N','O','P','Q','R','S','T','U','V','W','X','Y','Z']\n",
        "# plot_confusion_matrix(preds, test_label.argmax(axis = -1), names, title = 'EEGNet-8,2')\n",
        "cm_test = confusion_matrix(test_label, preds)\n",
        "print(cm_test)"
      ],
      "metadata": {
        "colab": {
          "base_uri": "https://localhost:8080/"
        },
        "id": "fcIIzvu24wh9",
        "outputId": "ac304f51-432e-42a6-9c7d-a9e8ad38b1b2"
      },
      "execution_count": 81,
      "outputs": [
        {
          "output_type": "stream",
          "name": "stdout",
          "text": [
            "[[1 1 0 0 0 0 2 0 1 1 0 0 0 0 0 0 0 0 0 0 0 0 2 0 0 0]\n",
            " [0 1 0 0 0 0 1 0 0 0 0 0 0 0 0 0 1 0 0 0 0 0 0 0 0 0]\n",
            " [0 3 0 0 0 0 4 0 2 0 0 0 0 0 0 1 0 0 0 1 0 0 1 0 0 0]\n",
            " [0 2 0 0 0 0 3 0 0 0 0 0 0 0 0 0 0 0 0 0 0 0 0 0 1 0]\n",
            " [0 1 0 0 0 0 2 0 3 0 0 1 0 0 0 0 0 0 0 1 0 1 2 0 0 0]\n",
            " [0 2 0 0 0 0 0 0 1 1 0 0 0 0 0 0 0 0 0 1 0 1 0 0 1 0]\n",
            " [0 1 0 0 0 0 2 0 0 0 0 1 0 0 0 0 0 0 0 0 0 0 2 0 1 0]\n",
            " [0 2 0 0 0 0 4 0 0 0 0 0 0 0 0 0 0 0 0 2 0 0 0 0 1 0]\n",
            " [0 1 0 0 0 0 2 0 0 0 0 1 0 0 0 0 0 0 0 1 0 0 2 0 0 0]\n",
            " [0 2 0 0 0 0 2 0 1 0 0 1 0 0 0 0 0 0 0 0 0 0 2 0 0 0]\n",
            " [0 1 0 0 0 0 2 0 2 0 0 0 0 0 0 0 0 0 0 0 0 0 1 0 0 0]\n",
            " [0 1 0 0 0 0 3 0 0 0 0 2 0 0 0 0 0 0 0 0 0 0 1 0 0 0]\n",
            " [0 1 0 0 0 0 0 0 0 0 0 2 0 0 0 0 1 0 1 0 0 0 0 0 0 0]\n",
            " [0 0 0 0 0 0 1 0 0 0 2 1 0 0 0 0 0 0 0 0 0 0 0 0 0 0]\n",
            " [0 2 0 0 0 0 2 0 0 0 0 1 0 0 0 0 0 0 0 2 0 0 0 0 1 0]\n",
            " [0 0 0 0 0 0 1 0 0 0 2 2 0 0 0 0 1 0 0 0 0 0 0 0 0 0]\n",
            " [0 1 0 0 0 0 0 0 0 0 0 1 0 0 0 0 0 0 0 1 0 0 0 0 0 0]\n",
            " [0 5 0 0 1 0 1 0 1 0 0 0 0 0 0 0 0 0 0 1 0 0 1 0 0 0]\n",
            " [0 2 0 1 0 0 2 0 1 0 0 0 0 0 0 0 0 0 0 0 0 0 1 0 0 0]\n",
            " [0 1 0 0 0 0 4 0 0 0 0 1 0 0 0 0 0 0 1 1 0 0 0 0 0 0]\n",
            " [0 2 0 0 0 0 6 0 0 0 1 0 0 0 1 0 0 0 0 1 0 0 1 0 0 0]\n",
            " [0 3 0 0 0 0 3 0 1 0 0 1 0 0 0 0 0 0 0 0 0 0 0 0 0 0]\n",
            " [0 3 0 0 0 0 4 0 0 1 0 0 0 0 0 0 0 0 0 0 0 0 2 0 1 0]\n",
            " [0 2 0 0 0 1 3 0 2 1 0 0 0 0 0 0 0 0 1 0 0 0 1 0 0 0]\n",
            " [0 3 0 0 0 0 2 0 0 0 0 0 0 0 0 0 0 0 0 0 0 0 0 0 1 0]\n",
            " [0 3 0 0 0 0 3 0 1 0 0 0 0 0 0 0 0 0 1 0 0 0 2 0 0 0]]\n"
          ]
        }
      ]
    },
    {
      "cell_type": "code",
      "source": [
        "def plot_confusion_matrix(cm, classes,\n",
        "                          normalize=False,\n",
        "                          title='Confusion matrix',\n",
        "                          cmap=plt.cm.Blues):\n",
        "    \"\"\"\n",
        "    This function prints and plots the confusion matrix.\n",
        "    Normalization can be applied by setting `normalize=True`.\n",
        "    \"\"\"\n",
        "    if normalize:\n",
        "        cm = cm.astype('float') / cm.sum(axis=1)[:, np.newaxis]\n",
        "        print(\"Normalized confusion matrix\")\n",
        "    else:\n",
        "        print('Confusion matrix, without normalization')\n",
        "\n",
        "    print(cm)\n",
        "    fig=plt.figure()\n",
        "    plt.imshow(cm, interpolation='nearest', cmap=cmap)\n",
        "    plt.title(title)\n",
        "    plt.colorbar()\n",
        "    tick_marks = np.arange(len(classes))\n",
        "    plt.xticks(tick_marks, classes, rotation=45)\n",
        "    plt.yticks(tick_marks, classes)\n",
        "\n",
        "    fmt = '.2f' if normalize else 'd'\n",
        "    thresh = cm.max() / 2.\n",
        "    for i, j in itertools.product(range(cm.shape[0]), range(cm.shape[1])):\n",
        "        plt.text(j, i, format(cm[i, j], fmt),\n",
        "                 horizontalalignment=\"center\",\n",
        "                 color=\"white\" if cm[i, j] > thresh else \"black\")\n",
        "\n",
        "    plt.tight_layout()\n",
        "    plt.ylabel('True label')\n",
        "    plt.xlabel('Predicted label')\n",
        "    fig.savefig('confusion_matrix_gender_alpha.png',bbox_inches='tight')"
      ],
      "metadata": {
        "id": "oQAUAM4z5b8V"
      },
      "execution_count": 82,
      "outputs": []
    },
    {
      "cell_type": "code",
      "source": [
        "class_names=['A','B','C','D','E','F','G','H','I','J','K','L','M','N','O','P','Q','R','S','T','U','V','W','X','Y','Z']\n",
        "\n",
        "import matplotlib.pyplot as plt\n",
        "plt.figure()\n",
        "plt.rcParams[\"figure.figsize\"] = (10,10)\n",
        "plot_confusion_matrix(cm_test, classes=class_names,\n",
        "                      title='Confusion matrix')\n",
        "plt.show()"
      ],
      "metadata": {
        "colab": {
          "base_uri": "https://localhost:8080/",
          "height": 1000
        },
        "id": "9XIPXyBN5dv7",
        "outputId": "6470536d-fb53-4532-c67c-c01c54f6bad3"
      },
      "execution_count": 83,
      "outputs": [
        {
          "output_type": "stream",
          "name": "stdout",
          "text": [
            "Confusion matrix, without normalization\n",
            "[[1 1 0 0 0 0 2 0 1 1 0 0 0 0 0 0 0 0 0 0 0 0 2 0 0 0]\n",
            " [0 1 0 0 0 0 1 0 0 0 0 0 0 0 0 0 1 0 0 0 0 0 0 0 0 0]\n",
            " [0 3 0 0 0 0 4 0 2 0 0 0 0 0 0 1 0 0 0 1 0 0 1 0 0 0]\n",
            " [0 2 0 0 0 0 3 0 0 0 0 0 0 0 0 0 0 0 0 0 0 0 0 0 1 0]\n",
            " [0 1 0 0 0 0 2 0 3 0 0 1 0 0 0 0 0 0 0 1 0 1 2 0 0 0]\n",
            " [0 2 0 0 0 0 0 0 1 1 0 0 0 0 0 0 0 0 0 1 0 1 0 0 1 0]\n",
            " [0 1 0 0 0 0 2 0 0 0 0 1 0 0 0 0 0 0 0 0 0 0 2 0 1 0]\n",
            " [0 2 0 0 0 0 4 0 0 0 0 0 0 0 0 0 0 0 0 2 0 0 0 0 1 0]\n",
            " [0 1 0 0 0 0 2 0 0 0 0 1 0 0 0 0 0 0 0 1 0 0 2 0 0 0]\n",
            " [0 2 0 0 0 0 2 0 1 0 0 1 0 0 0 0 0 0 0 0 0 0 2 0 0 0]\n",
            " [0 1 0 0 0 0 2 0 2 0 0 0 0 0 0 0 0 0 0 0 0 0 1 0 0 0]\n",
            " [0 1 0 0 0 0 3 0 0 0 0 2 0 0 0 0 0 0 0 0 0 0 1 0 0 0]\n",
            " [0 1 0 0 0 0 0 0 0 0 0 2 0 0 0 0 1 0 1 0 0 0 0 0 0 0]\n",
            " [0 0 0 0 0 0 1 0 0 0 2 1 0 0 0 0 0 0 0 0 0 0 0 0 0 0]\n",
            " [0 2 0 0 0 0 2 0 0 0 0 1 0 0 0 0 0 0 0 2 0 0 0 0 1 0]\n",
            " [0 0 0 0 0 0 1 0 0 0 2 2 0 0 0 0 1 0 0 0 0 0 0 0 0 0]\n",
            " [0 1 0 0 0 0 0 0 0 0 0 1 0 0 0 0 0 0 0 1 0 0 0 0 0 0]\n",
            " [0 5 0 0 1 0 1 0 1 0 0 0 0 0 0 0 0 0 0 1 0 0 1 0 0 0]\n",
            " [0 2 0 1 0 0 2 0 1 0 0 0 0 0 0 0 0 0 0 0 0 0 1 0 0 0]\n",
            " [0 1 0 0 0 0 4 0 0 0 0 1 0 0 0 0 0 0 1 1 0 0 0 0 0 0]\n",
            " [0 2 0 0 0 0 6 0 0 0 1 0 0 0 1 0 0 0 0 1 0 0 1 0 0 0]\n",
            " [0 3 0 0 0 0 3 0 1 0 0 1 0 0 0 0 0 0 0 0 0 0 0 0 0 0]\n",
            " [0 3 0 0 0 0 4 0 0 1 0 0 0 0 0 0 0 0 0 0 0 0 2 0 1 0]\n",
            " [0 2 0 0 0 1 3 0 2 1 0 0 0 0 0 0 0 0 1 0 0 0 1 0 0 0]\n",
            " [0 3 0 0 0 0 2 0 0 0 0 0 0 0 0 0 0 0 0 0 0 0 0 0 1 0]\n",
            " [0 3 0 0 0 0 3 0 1 0 0 0 0 0 0 0 0 0 1 0 0 0 2 0 0 0]]\n"
          ]
        },
        {
          "output_type": "display_data",
          "data": {
            "text/plain": [
              "<Figure size 432x288 with 0 Axes>"
            ]
          },
          "metadata": {}
        },
        {
          "output_type": "display_data",
          "data": {
            "text/plain": [
              "<Figure size 720x720 with 2 Axes>"
            ],
            "image/png": "[encoded data removed]"
          },
          "metadata": {
            "needs_background": "light"
          }
        }
      ]
    }
  ]
}