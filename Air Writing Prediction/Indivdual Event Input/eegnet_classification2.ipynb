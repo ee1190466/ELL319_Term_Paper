{
 "cells": [
  {
   "cell_type": "code",
   "execution_count": 1,
   "id": "aa17de7e",
   "metadata": {},
   "outputs": [],
   "source": [
    "import pandas as pd\n",
    "import numpy as np\n",
    "import os\n",
    "import math\n",
    "from scipy import signal\n",
    "import scipy.io\n",
    "from scipy import signal\n",
    "import mne\n",
    "from sklearn.model_selection import train_test_split\n",
    "from sklearn.metrics import accuracy_score,confusion_matrix\n",
    "import tensorflow\n",
    "from tensorflow.keras.models import Sequential, Model\n",
    "from tensorflow.keras.utils import plot_model, to_categorical\n",
    "from tensorflow.keras.layers import Dense, Activation, Conv1D, MaxPooling1D, GlobalAveragePooling1D, Flatten, Dropout, BatchNormalization, Input,UpSampling1D\n",
    "from tensorflow.keras.layers import concatenate, Lambda, Conv2D, MaxPooling2D, GlobalAveragePooling2D,LSTM,Activation\n",
    "from tensorflow.keras import backend as K\n",
    "from tensorflow.keras.callbacks import EarlyStopping\n",
    "from sklearn.utils import shuffle"
   ]
  },
  {
   "cell_type": "code",
   "execution_count": 2,
   "id": "c5f56d3a",
   "metadata": {},
   "outputs": [
    {
     "name": "stdout",
     "output_type": "stream",
     "text": [
      "1300\n"
     ]
    }
   ],
   "source": [
    "trainctr = 0\n",
    "X_train = np.zeros((1300,31,500))\n",
    "Y_train = np.zeros((1300,))\n",
    "\n",
    "\n",
    "for fi in os.listdir('Segmented/'):\n",
    "    eeg_sig = np.load(os.path.join('Segmented/',fi))\n",
    "    eeg_sig_var = eeg_sig[250:750,:]\n",
    "    _,char,trial = fi.split('_')\n",
    "    trial,_ = trial.split('.')\n",
    "    \n",
    "    for i in range(0,31):\n",
    "        X_train[trainctr,i,:] = np.transpose(eeg_sig_var[:,i])\n",
    "    Y_train[trainctr] = ord(char)-65\n",
    "    trainctr = trainctr+1\n",
    "        \n",
    "print(trainctr)"
   ]
  },
  {
   "cell_type": "code",
   "execution_count": 3,
   "id": "394b14f0",
   "metadata": {},
   "outputs": [],
   "source": [
    "X_train_final, X_test_final, Y_train_final, Y_test_final = train_test_split(X_train, Y_train, test_size=0.2, random_state=1)"
   ]
  },
  {
   "cell_type": "code",
   "execution_count": 4,
   "id": "7f504824",
   "metadata": {},
   "outputs": [],
   "source": [
    "for i in range(0,len(X_train_final)):\n",
    "    X_train_final[i,:,:] = (X_train_final[i,:,:]-np.mean(X_train_final[i,:,:]))/np.std(X_train_final[i,:,:])\n",
    "\n",
    "for i in range(0,len(X_test_final)):\n",
    "    X_test_final[i,:,:] = (X_test_final[i,:,:]-np.mean(X_test_final[i,:,:]))/np.std(X_test_final[i,:,:])"
   ]
  },
  {
   "cell_type": "code",
   "execution_count": 5,
   "id": "b2a3e3a3",
   "metadata": {},
   "outputs": [
    {
     "name": "stdout",
     "output_type": "stream",
     "text": [
      "Model: \"model\"\n",
      "_________________________________________________________________\n",
      "Layer (type)                 Output Shape              Param #   \n",
      "=================================================================\n",
      "input_1 (InputLayer)         [(None, 31, 500, 1)]      0         \n",
      "_________________________________________________________________\n",
      "conv2d (Conv2D)              (None, 31, 500, 8)        512       \n",
      "_________________________________________________________________\n",
      "batch_normalization (BatchNo (None, 31, 500, 8)        32        \n",
      "_________________________________________________________________\n",
      "depthwise_conv2d (DepthwiseC (None, 1, 500, 16)        496       \n",
      "_________________________________________________________________\n",
      "batch_normalization_1 (Batch (None, 1, 500, 16)        64        \n",
      "_________________________________________________________________\n",
      "activation (Activation)      (None, 1, 500, 16)        0         \n",
      "_________________________________________________________________\n",
      "average_pooling2d (AveragePo (None, 1, 125, 16)        0         \n",
      "_________________________________________________________________\n",
      "dropout (Dropout)            (None, 1, 125, 16)        0         \n",
      "_________________________________________________________________\n",
      "separable_conv2d (SeparableC (None, 1, 125, 16)        512       \n",
      "_________________________________________________________________\n",
      "batch_normalization_2 (Batch (None, 1, 125, 16)        64        \n",
      "_________________________________________________________________\n",
      "activation_1 (Activation)    (None, 1, 125, 16)        0         \n",
      "_________________________________________________________________\n",
      "average_pooling2d_1 (Average (None, 1, 15, 16)         0         \n",
      "_________________________________________________________________\n",
      "dropout_1 (Dropout)          (None, 1, 15, 16)         0         \n",
      "_________________________________________________________________\n",
      "flatten (Flatten)            (None, 240)               0         \n",
      "_________________________________________________________________\n",
      "dense (Dense)                (None, 26)                6266      \n",
      "_________________________________________________________________\n",
      "softmax (Activation)         (None, 26)                0         \n",
      "=================================================================\n",
      "Total params: 7,946\n",
      "Trainable params: 7,866\n",
      "Non-trainable params: 80\n",
      "_________________________________________________________________\n",
      "None\n",
      "Epoch 1/500\n",
      "104/104 [==============================] - 4s 11ms/step - loss: 3.2542 - accuracy: 0.0481 - val_loss: 3.2416 - val_accuracy: 0.0817\n",
      "Epoch 2/500\n",
      "104/104 [==============================] - 1s 9ms/step - loss: 3.1483 - accuracy: 0.1034 - val_loss: 3.1787 - val_accuracy: 0.0913\n",
      "Epoch 3/500\n",
      "104/104 [==============================] - 1s 9ms/step - loss: 3.0529 - accuracy: 0.1430 - val_loss: 3.1164 - val_accuracy: 0.1106\n",
      "Epoch 4/500\n",
      "104/104 [==============================] - 1s 10ms/step - loss: 2.9840 - accuracy: 0.1899 - val_loss: 3.0993 - val_accuracy: 0.0817\n",
      "Epoch 5/500\n",
      "104/104 [==============================] - 1s 10ms/step - loss: 2.9228 - accuracy: 0.1959 - val_loss: 3.0614 - val_accuracy: 0.1298\n",
      "Epoch 6/500\n",
      "104/104 [==============================] - 1s 10ms/step - loss: 2.8802 - accuracy: 0.2043 - val_loss: 3.0509 - val_accuracy: 0.1202\n",
      "Epoch 7/500\n",
      "104/104 [==============================] - 1s 10ms/step - loss: 2.8488 - accuracy: 0.2248 - val_loss: 3.0036 - val_accuracy: 0.1538\n",
      "Epoch 8/500\n",
      "104/104 [==============================] - 1s 10ms/step - loss: 2.8284 - accuracy: 0.2079 - val_loss: 3.0245 - val_accuracy: 0.1202\n",
      "Epoch 9/500\n",
      "104/104 [==============================] - 1s 11ms/step - loss: 2.8142 - accuracy: 0.2212 - val_loss: 2.9967 - val_accuracy: 0.1490\n",
      "Epoch 10/500\n",
      "104/104 [==============================] - 1s 11ms/step - loss: 2.7912 - accuracy: 0.2224 - val_loss: 2.9835 - val_accuracy: 0.1298\n",
      "Epoch 11/500\n",
      "104/104 [==============================] - 1s 11ms/step - loss: 2.7763 - accuracy: 0.2188 - val_loss: 2.9816 - val_accuracy: 0.1106\n",
      "Epoch 12/500\n",
      "104/104 [==============================] - 1s 10ms/step - loss: 2.7471 - accuracy: 0.2404 - val_loss: 2.9853 - val_accuracy: 0.1442\n",
      "Epoch 13/500\n",
      "104/104 [==============================] - 1s 10ms/step - loss: 2.7336 - accuracy: 0.2488 - val_loss: 2.9464 - val_accuracy: 0.1779\n",
      "Epoch 14/500\n",
      "104/104 [==============================] - 1s 10ms/step - loss: 2.7148 - accuracy: 0.2380 - val_loss: 2.9617 - val_accuracy: 0.1683\n",
      "Epoch 15/500\n",
      "104/104 [==============================] - 1s 10ms/step - loss: 2.6956 - accuracy: 0.2488 - val_loss: 2.9628 - val_accuracy: 0.1250\n",
      "Epoch 16/500\n",
      "104/104 [==============================] - 1s 10ms/step - loss: 2.6843 - accuracy: 0.2512 - val_loss: 2.9577 - val_accuracy: 0.1779\n",
      "Epoch 17/500\n",
      "104/104 [==============================] - 1s 10ms/step - loss: 2.6715 - accuracy: 0.2464 - val_loss: 2.9623 - val_accuracy: 0.1538\n",
      "Epoch 18/500\n",
      "104/104 [==============================] - 1s 10ms/step - loss: 2.6349 - accuracy: 0.2572 - val_loss: 2.9498 - val_accuracy: 0.1587\n",
      "Epoch 19/500\n",
      "104/104 [==============================] - 1s 10ms/step - loss: 2.6375 - accuracy: 0.2812 - val_loss: 2.9254 - val_accuracy: 0.1683\n",
      "Epoch 20/500\n",
      "104/104 [==============================] - 1s 10ms/step - loss: 2.6057 - accuracy: 0.2704 - val_loss: 2.9531 - val_accuracy: 0.1298\n",
      "Epoch 21/500\n",
      "104/104 [==============================] - 1s 10ms/step - loss: 2.6106 - accuracy: 0.2800 - val_loss: 2.9428 - val_accuracy: 0.1346\n",
      "Epoch 22/500\n",
      "104/104 [==============================] - 1s 10ms/step - loss: 2.6284 - accuracy: 0.2704 - val_loss: 2.9199 - val_accuracy: 0.1635\n",
      "Epoch 23/500\n",
      "104/104 [==============================] - 1s 11ms/step - loss: 2.5765 - accuracy: 0.2945 - val_loss: 2.9351 - val_accuracy: 0.1538\n",
      "Epoch 24/500\n",
      "104/104 [==============================] - 1s 10ms/step - loss: 2.5948 - accuracy: 0.2536 - val_loss: 2.9361 - val_accuracy: 0.2067\n",
      "Epoch 25/500\n",
      "104/104 [==============================] - 1s 10ms/step - loss: 2.5703 - accuracy: 0.2861 - val_loss: 2.9117 - val_accuracy: 0.1587\n",
      "Epoch 26/500\n",
      "104/104 [==============================] - 1s 10ms/step - loss: 2.5637 - accuracy: 0.2752 - val_loss: 2.9256 - val_accuracy: 0.1538\n",
      "Epoch 27/500\n",
      "104/104 [==============================] - 1s 10ms/step - loss: 2.5212 - accuracy: 0.3005 - val_loss: 2.9168 - val_accuracy: 0.1683\n",
      "Epoch 28/500\n",
      "104/104 [==============================] - 1s 10ms/step - loss: 2.5183 - accuracy: 0.2981 - val_loss: 2.9445 - val_accuracy: 0.1731\n",
      "Epoch 29/500\n",
      "104/104 [==============================] - 1s 10ms/step - loss: 2.5231 - accuracy: 0.2752 - val_loss: 2.9276 - val_accuracy: 0.1587\n",
      "Epoch 30/500\n",
      "104/104 [==============================] - 1s 10ms/step - loss: 2.5268 - accuracy: 0.2680 - val_loss: 2.9847 - val_accuracy: 0.1635\n",
      "Epoch 31/500\n",
      "104/104 [==============================] - 1s 10ms/step - loss: 2.4880 - accuracy: 0.3065 - val_loss: 2.9742 - val_accuracy: 0.1490\n",
      "Epoch 32/500\n",
      "104/104 [==============================] - 1s 10ms/step - loss: 2.5153 - accuracy: 0.2945 - val_loss: 2.9769 - val_accuracy: 0.1442\n",
      "Epoch 33/500\n",
      "104/104 [==============================] - 1s 10ms/step - loss: 2.4928 - accuracy: 0.2933 - val_loss: 2.9760 - val_accuracy: 0.1635\n",
      "Epoch 34/500\n",
      "104/104 [==============================] - 1s 10ms/step - loss: 2.4705 - accuracy: 0.3041 - val_loss: 2.9485 - val_accuracy: 0.1538\n",
      "Epoch 35/500\n",
      "104/104 [==============================] - 1s 10ms/step - loss: 2.4884 - accuracy: 0.2885 - val_loss: 2.9632 - val_accuracy: 0.1587\n",
      "Epoch 36/500\n",
      "104/104 [==============================] - 1s 10ms/step - loss: 2.4656 - accuracy: 0.3137 - val_loss: 2.9154 - val_accuracy: 0.1202\n",
      "Epoch 37/500\n",
      "104/104 [==============================] - 1s 10ms/step - loss: 2.4394 - accuracy: 0.2993 - val_loss: 2.9122 - val_accuracy: 0.1779\n",
      "Epoch 38/500\n",
      "104/104 [==============================] - 1s 10ms/step - loss: 2.4330 - accuracy: 0.3089 - val_loss: 2.9486 - val_accuracy: 0.1394\n",
      "Epoch 39/500\n",
      "104/104 [==============================] - 1s 10ms/step - loss: 2.4137 - accuracy: 0.2921 - val_loss: 2.9558 - val_accuracy: 0.1202\n",
      "Epoch 40/500\n"
     ]
    },
    {
     "name": "stdout",
     "output_type": "stream",
     "text": [
      "104/104 [==============================] - 1s 10ms/step - loss: 2.4501 - accuracy: 0.3101 - val_loss: 2.9477 - val_accuracy: 0.1538\n",
      "Epoch 41/500\n",
      "104/104 [==============================] - 1s 10ms/step - loss: 2.4275 - accuracy: 0.3029 - val_loss: 2.9461 - val_accuracy: 0.1490\n",
      "Epoch 42/500\n",
      "104/104 [==============================] - 1s 10ms/step - loss: 2.4219 - accuracy: 0.3377 - val_loss: 2.9889 - val_accuracy: 0.1298\n",
      "Epoch 43/500\n",
      "104/104 [==============================] - 1s 9ms/step - loss: 2.4288 - accuracy: 0.3197 - val_loss: 2.9762 - val_accuracy: 0.1346\n",
      "Epoch 44/500\n",
      "104/104 [==============================] - 1s 9ms/step - loss: 2.3908 - accuracy: 0.3137 - val_loss: 2.9701 - val_accuracy: 0.1442\n",
      "Restoring model weights from the end of the best epoch.\n",
      "Epoch 00044: early stopping\n"
     ]
    },
    {
     "data": {
      "text/plain": [
       "<tensorflow.python.keras.callbacks.History at 0x20d21390790>"
      ]
     },
     "execution_count": 5,
     "metadata": {},
     "output_type": "execute_result"
    }
   ],
   "source": [
    "tensorflow.keras.backend.clear_session()\n",
    "from EEGModels import EEGNet, ShallowConvNet, DeepConvNet\n",
    "model = EEGNet(nb_classes=26,Chans=31,Samples=500)\n",
    "print(model.summary())\n",
    "model.compile(loss='categorical_crossentropy',optimizer='adam',metrics=['accuracy'])\n",
    "es = EarlyStopping(monitor='val_accuracy', verbose=1, patience=20,restore_best_weights=True)\n",
    "model.fit(X_train_final, y=to_categorical(Y_train_final),validation_split=0.2,epochs=500, batch_size=8,verbose=1,callbacks=[es])"
   ]
  },
  {
   "cell_type": "code",
   "execution_count": 6,
   "id": "5c8b8eeb",
   "metadata": {},
   "outputs": [
    {
     "name": "stdout",
     "output_type": "stream",
     "text": [
      "17.692307692307693\n"
     ]
    }
   ],
   "source": [
    "pred = model.predict(X_test_final)\n",
    "Y_pred = np.argmax(pred,axis=1)\n",
    "print(accuracy_score(Y_pred,Y_test_final)*100)"
   ]
  },
  {
   "cell_type": "code",
   "execution_count": null,
   "id": "d9e3185d",
   "metadata": {},
   "outputs": [],
   "source": []
  }
 ],
 "metadata": {
  "kernelspec": {
   "display_name": "Python 3",
   "language": "python",
   "name": "python3"
  },
  "language_info": {
   "codemirror_mode": {
    "name": "ipython",
    "version": 3
   },
   "file_extension": ".py",
   "mimetype": "text/x-python",
   "name": "python",
   "nbconvert_exporter": "python",
   "pygments_lexer": "ipython3",
   "version": "3.8.8"
  }
 },
 "nbformat": 4,
 "nbformat_minor": 5
}
