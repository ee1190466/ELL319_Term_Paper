{
  "cells": [
    {
      "cell_type": "code",
      "execution_count": 1,
      "id": "51e16a89",
      "metadata": {
        "id": "51e16a89"
      },
      "outputs": [],
      "source": [
        "import pandas as pd\n",
        "import numpy as np\n",
        "import matplotlib.pyplot as plt\n",
        "import os\n",
        "import csv\n",
        "import itertools\n",
        "import keras\n",
        "# Setting seed for reproducibility\n",
        "np.random.seed(1234)  \n",
        "PYTHONHASHSEED = 0\n",
        "\n",
        "from sklearn import preprocessing\n",
        "from sklearn.metrics import confusion_matrix, recall_score, precision_score\n",
        "from keras.models import Sequential,load_model,model_from_json\n",
        "from keras.layers import Dense, Dropout, LSTM,BatchNormalization,TimeDistributed,Flatten,Bidirectional"
      ]
    },
    {
      "cell_type": "code",
      "execution_count": 2,
      "id": "40a38aeb",
      "metadata": {
        "colab": {
          "base_uri": "https://localhost:8080/"
        },
        "id": "40a38aeb",
        "outputId": "9791cf49-82c7-4c3a-dc34-652d7e3acc5a"
      },
      "outputs": [
        {
          "output_type": "execute_result",
          "data": {
            "text/plain": [
              "60"
            ]
          },
          "metadata": {},
          "execution_count": 2
        }
      ],
      "source": [
        "filename = ['L4_abhay_M_38_10.txt','L4_abhilash1_M_23_10.txt','L4_amrish_M_29_10.txt','L4_annu1_F_10_10.txt','L4_anuj1_M_13_10.txt','L4_avinash1_M_27_10.txt','L4_bhuvan1_M_13_10.txt','L4_chachiiiiiiiiiii1_F_35_10.txt','L4_champu_M_21_10.txt','L4_garima1_F_13_10.txt','L4_geetamami1_F_34_10.txt','L4_gordhan_M_45_10.txt','L4_Gunjan1_F_17_10.txt','L4_guzzrAunty1_F_48_10.txt','L4_joney1_M_31_10.txt','L4_kanchan1_F_12_10.txt','L4_kapil_M_21_10.txt','L4_kirti1_F_6_10.txt','L4_kusum1_F_48_10.txt','L4_lalit1_M_12_10.txt','L4_laras1_M_8_10.txt','L4_mahesh1_M_50_10.txt','L4_mannu1_M_13_10.txt','L4_manthan1_M_18_10.txt','L4_mohit1_M_10_10.txt','L4_monika1_F_24_10.txt','L4_moolchnd1_M_47_10.txt','L4_munish_M_42_10.txt','L4_nanaji1_M_63_10.txt','L4_naveen1_M_15_10.txt','L4_neeraj_M_28_10.txt','L4_nirmal_M_49_10.txt','L4_nishu1_M_12_10.txt','L4_omsingh_M_35_10.txt','L4_pawan1_M_23_10.txt','L4_prabhat1_M_25_10.txt','L4_prachi1_F_8_10.txt','L4_praveen1_M_28_10.txt','L4_priya1_F_7_10.txt','L4_pushpa1_F_37_10.txt','L4_radhe1_M_36_10.txt','L4_rajumama1_M_36_10.txt','L4_raj_M_28_10.txt','L4_ranu_M_22_10.txt','L4_rohit1_M_16_10.txt','L4_sachinn_M_38_10.txt','L4_sakshi1_F_19_10.txt','L4_santosh1_F_53_10.txt','L4_shelly_F_17_10.txt','L4_soniya1_F_25_10.txt','L4_sumit1_M_12_10.txt','L4_sunil_M_27_10.txt','L4_sunyana1_F_15_10.txt','L4_sushma1_F_18_10.txt','L4_swati1_F_13_10.txt','L4_tarun1_M_18_10.txt','L4_umesh1_M_20_10.txt','L4_vikas1_M_33_10.txt','L4_vinay1_M_11_10.txt','L4_yogesh_M_28_10.txt']\n",
        "len(filename)"
      ]
    },
    {
      "cell_type": "code",
      "execution_count": 12,
      "id": "cc27650d",
      "metadata": {
        "colab": {
          "base_uri": "https://localhost:8080/"
        },
        "id": "cc27650d",
        "outputId": "7250ff53-9703-4656-9d71-e8f4407acadd"
      },
      "outputs": [
        {
          "output_type": "execute_result",
          "data": {
            "text/plain": [
              "(94810, 16)"
            ]
          },
          "metadata": {},
          "execution_count": 12
        }
      ],
      "source": [
        "df=pd.read_csv('all.csv',header=None)\n",
        "# df = df.drop(df.columns[[16, 17]], axis=1)  # df.columns is zero-based pd.Index\n",
        "df.shape\n",
        "# dataframes=pd.read_table('L4_abhay_M_38_10.txt',' ',header=None)\n",
        "# dataframes[14] = 5\n",
        "# dataframes.insert(0,'0','_abhay_M_38_')\n",
        "# for i in range(1,60):\n",
        "#     for j in range(2,5):\n",
        "# #         for k in range(1,4):\n",
        "#         k = 1\n",
        "#         ff = filename[i]\n",
        "#         fr = ff[2:]\n",
        "#         ft = \"L\"+str(j)+fr\n",
        "#         ww = ff[::-1]\n",
        "#         id = ww.find(\"_\")\n",
        "#         idx = len(ww)-id\n",
        "#         wq = ft[:idx]\n",
        "#         fn = wq+str(k)+\".txt\"\n",
        "#         fn.strip()\n",
        "# #             print(fn)\n",
        "# #             print(len(fn))\n",
        "# #             fn = filename[i]\n",
        "#         tttt = 0\n",
        "#         pppp = fn.find('M')\n",
        "#         if pppp==-1:\n",
        "#             pppp = fn.find('F')\n",
        "#         hhhhh = fn[(pppp+2):]\n",
        "#         xyz = hhhhh.find('_')\n",
        "#         hhhhhh = fn[(xyz+1):]\n",
        "#         abc = hhhhhh.find('_')\n",
        "#         agestr = fn[(2+pppp):(xyz+pppp+2)]\n",
        "#         df=pd.read_table(fn,' ',header=None)\n",
        "#         df.insert(0,'0',wq[2:])\n",
        "        \n",
        "#         y = int(agestr)\n",
        "# #         print(y)\n",
        "#         if y<=10:\n",
        "#             df[14]=1\n",
        "#         elif y<=15:\n",
        "#             df[14]=2\n",
        "#         elif y<=23:\n",
        "#             df[14]=3\n",
        "#         elif y<=29:\n",
        "#             df[14]=4\n",
        "#         elif y<=38:\n",
        "#             df[14]=5\n",
        "#         else:\n",
        "#             df[14]=6\n",
        "# #         p = fn.find('M')\n",
        "# #         if p!=-1:\n",
        "# #             df[14] = 'M'\n",
        "# #         else:\n",
        "# #             df[14] = 'F'\n",
        "            \n",
        "#         dataframes = dataframes.append(df)\n",
        "# # df=pd.read_table('L4_yogesh_M_28_10.txt',' ',header=None)\n",
        "# # df.shape\n",
        "# print(dataframes.shape)\n",
        "# dataframes.head(500)\n",
        "# # rawdata = pd.Series(dataframes)\n",
        "# # rawdata.shape"
      ]
    },
    {
      "cell_type": "code",
      "execution_count": 13,
      "id": "e55c1641",
      "metadata": {
        "colab": {
          "base_uri": "https://localhost:8080/"
        },
        "id": "e55c1641",
        "outputId": "f4420e6b-7657-4c86-f925-d258aedf1841"
      },
      "outputs": [
        {
          "output_type": "stream",
          "name": "stdout",
          "text": [
            "[['L1_abhay_M_38_1.txt' 2.3714 80.95 ... -10.859 -0.1315 'M']\n",
            " ['L1_abhay_M_38_1.txt' 2.5153 83.811 ... -11.373 -0.19861 'M']\n",
            " ['L1_abhay_M_38_1.txt' 2.6574 86.567 ... -11.861 -0.2631 'M']\n",
            " ...\n",
            " ['L1_prachi1_F_8_7.txt' 40.856 39.876 ... 70.582 47.986 'F']\n",
            " ['L1_prachi1_F_8_7.txt' 37.517 37.031 ... 64.252 46.28 'F']\n",
            " ['L1_prachi1_F_8_7.txt' 33.764 33.802 ... 57.342 44.185 nan]]\n"
          ]
        }
      ],
      "source": [
        "data=np.array(df)\n",
        "print(data)"
      ]
    },
    {
      "cell_type": "code",
      "execution_count": 14,
      "id": "354d3d27",
      "metadata": {
        "id": "354d3d27"
      },
      "outputs": [],
      "source": [
        "# pick a large window size of 25 cycles\n",
        "sequence_length = 50\n",
        "\n",
        "# function to reshape features into (samples, time steps, features) \n",
        "def gen_sequence(id_df, seq_length, seq_cols):\n",
        "    \n",
        "    data_matrix = id_df[:,seq_cols]\n",
        "    \n",
        "    num_elements = data_matrix.shape[0]\n",
        "    for start, stop in zip(range(0, num_elements-seq_length), range(seq_length, num_elements)):\n",
        "        yield data_matrix[start:stop, :]"
      ]
    },
    {
      "cell_type": "code",
      "execution_count": 36,
      "id": "e1b7f79d",
      "metadata": {
        "colab": {
          "base_uri": "https://localhost:8080/"
        },
        "id": "e1b7f79d",
        "outputId": "79467870-4ac7-4df4-b0be-d28f948a125d"
      },
      "outputs": [
        {
          "output_type": "stream",
          "name": "stdout",
          "text": [
            "(76410, 50, 15)\n"
          ]
        },
        {
          "output_type": "execute_result",
          "data": {
            "text/plain": [
              "array([[[242.96, 615.14, 410.71, ..., 572.63, 418.78, 'F'],\n",
              "        [253.1, 638.1, 428.09, ..., 593.28, 432.79, 'F'],\n",
              "        [261.8, 657.5, 443.29, ..., 610.52, 444.24, 'F'],\n",
              "        ...,\n",
              "        [-82.405, -208.42, -146.71, ..., -252.05, -179.68, 'F'],\n",
              "        [-87.993, -218.82, -161.76, ..., -260.44, -182.45, 'F'],\n",
              "        [-93.691, -229.43, -176.99, ..., -268.81, -185.19, 'F']],\n",
              "\n",
              "       [[253.1, 638.1, 428.09, ..., 593.28, 432.79, 'F'],\n",
              "        [261.8, 657.5, 443.29, ..., 610.52, 444.24, 'F'],\n",
              "        [268.98, 673.14, 456.19, ..., 624.14, 452.98, 'F'],\n",
              "        ...,\n",
              "        [-87.993, -218.82, -161.76, ..., -260.44, -182.45, 'F'],\n",
              "        [-93.691, -229.43, -176.99, ..., -268.81, -185.19, 'F'],\n",
              "        [-99.406, -240.04, -192.22, ..., -276.96, -187.78, 'F']],\n",
              "\n",
              "       [[261.8, 657.5, 443.29, ..., 610.52, 444.24, 'F'],\n",
              "        [268.98, 673.14, 456.19, ..., 624.14, 452.98, 'F'],\n",
              "        [274.59, 684.92, 466.71, ..., 634.07, 458.96, 'F'],\n",
              "        ...,\n",
              "        [-93.691, -229.43, -176.99, ..., -268.81, -185.19, 'F'],\n",
              "        [-99.406, -240.04, -192.22, ..., -276.96, -187.78, 'F'],\n",
              "        [-105.17, -250.73, -207.46, ..., -284.96, -190.3, 'F']],\n",
              "\n",
              "       ...,\n",
              "\n",
              "       [[-14.064, -21.17, -23.163, ..., -18.239, -52.898, 'F'],\n",
              "        [-15.43, -22.154, -24.545, ..., -17.904, -53.568, 'F'],\n",
              "        [-16.756, -23.067, -25.846, ..., -17.431, -54.026, 'F'],\n",
              "        ...,\n",
              "        [48.291, 46.09, 48.548, ..., 85.832, 50.874, 'F'],\n",
              "        [46.266, 44.425, 47.118, ..., 81.397, 50.291, 'F'],\n",
              "        [43.779, 42.346, 45.251, ..., 76.306, 49.325, 'F']],\n",
              "\n",
              "       [[-15.43, -22.154, -24.545, ..., -17.904, -53.568, 'F'],\n",
              "        [-16.756, -23.067, -25.846, ..., -17.431, -54.026, 'F'],\n",
              "        [-18.017, -23.892, -27.049, ..., -16.81, -54.273, 'F'],\n",
              "        ...,\n",
              "        [46.266, 44.425, 47.118, ..., 81.397, 50.291, 'F'],\n",
              "        [43.779, 42.346, 45.251, ..., 76.306, 49.325, 'F'],\n",
              "        [40.856, 39.876, 42.969, ..., 70.582, 47.986, 'F']],\n",
              "\n",
              "       [[-16.756, -23.067, -25.846, ..., -17.431, -54.026, 'F'],\n",
              "        [-18.017, -23.892, -27.049, ..., -16.81, -54.273, 'F'],\n",
              "        [-19.21, -24.648, -28.15, ..., -15.991, -54.349, 'F'],\n",
              "        ...,\n",
              "        [43.779, 42.346, 45.251, ..., 76.306, 49.325, 'F'],\n",
              "        [40.856, 39.876, 42.969, ..., 70.582, 47.986, 'F'],\n",
              "        [37.517, 37.031, 40.288, ..., 64.252, 46.28, 'F']]], dtype=object)"
            ]
          },
          "metadata": {},
          "execution_count": 36
        }
      ],
      "source": [
        "sequence_cols = [1,2,3,4,5,6,7,8,9,10,11,12,13,14,15]\n",
        "\n",
        "seq_gen = (list(gen_sequence(data[data[0:,0]==id], sequence_length, sequence_cols)) \n",
        "          for id in np.unique(data[0:,0]))\n",
        "\n",
        "seq_array = np.concatenate(list(seq_gen))\n",
        "print(seq_array.shape)\n",
        "seq_array"
      ]
    },
    {
      "cell_type": "code",
      "source": [
        "seq_array = shuffle(seq_array)"
      ],
      "metadata": {
        "id": "R1Bc3rHnEPPU"
      },
      "id": "R1Bc3rHnEPPU",
      "execution_count": 37,
      "outputs": []
    },
    {
      "cell_type": "code",
      "execution_count": 38,
      "id": "ceda5e73",
      "metadata": {
        "colab": {
          "base_uri": "https://localhost:8080/"
        },
        "id": "ceda5e73",
        "outputId": "d9004613-2147-444b-f8e0-e28c6bd9b49a"
      },
      "outputs": [
        {
          "output_type": "stream",
          "name": "stdout",
          "text": [
            "(60000, 50, 14)\n",
            "(60000, 1)\n",
            "(16410, 50, 14)\n",
            "(16410, 1)\n"
          ]
        }
      ],
      "source": [
        "train_final=seq_array[0:60000,:,0:14]\n",
        "test_final=seq_array[60000:,:,0:14]\n",
        "from sklearn import preprocessing\n",
        "train_label=seq_array[0:60000,0,14]\n",
        "test_label=seq_array[60000:,0,14]\n",
        "lb = preprocessing.LabelBinarizer()\n",
        "train_label=lb.fit_transform(train_label)\n",
        "test_label=lb.fit_transform(test_label)\n",
        "train_label=train_label.reshape((train_label.shape[0],1))\n",
        "train_label=train_label.astype('int')\n",
        "test_label=test_label.astype('int')\n",
        "print(train_final.shape)\n",
        "print(train_label.shape)\n",
        "print(test_final.shape)\n",
        "print(test_label.shape)\n"
      ]
    },
    {
      "cell_type": "code",
      "source": [
        "# from sklearn.utils import shuffle\n",
        "# train_final,train_label = shuffle(train_final,train_label)"
      ],
      "metadata": {
        "id": "jBdlWBptDiSr"
      },
      "id": "jBdlWBptDiSr",
      "execution_count": 28,
      "outputs": []
    },
    {
      "cell_type": "code",
      "execution_count": 17,
      "id": "0f50d2fc",
      "metadata": {
        "id": "0f50d2fc"
      },
      "outputs": [],
      "source": [
        "import tensorflow\n",
        "from tensorflow.keras.models import Sequential\n",
        "from tensorflow.keras.layers import Dense\n",
        "from tensorflow.keras.layers import LSTM"
      ]
    },
    {
      "cell_type": "code",
      "execution_count": 39,
      "id": "d8b7769b",
      "metadata": {
        "colab": {
          "base_uri": "https://localhost:8080/"
        },
        "id": "d8b7769b",
        "outputId": "c3cdaa69-a918-4808-9701-c85b74a6b8e2"
      },
      "outputs": [
        {
          "output_type": "stream",
          "name": "stdout",
          "text": [
            "Model: \"sequential_3\"\n",
            "_________________________________________________________________\n",
            " Layer (type)                Output Shape              Param #   \n",
            "=================================================================\n",
            " bidirectional_3 (Bidirectio  (None, 50, 1024)         2158592   \n",
            " nal)                                                            \n",
            "                                                                 \n",
            " dropout_3 (Dropout)         (None, 50, 1024)          0         \n",
            "                                                                 \n",
            " batch_normalization_9 (Batc  (None, 50, 1024)         4096      \n",
            " hNormalization)                                                 \n",
            "                                                                 \n",
            " lstm_10 (LSTM)              (None, 50, 256)           1311744   \n",
            "                                                                 \n",
            " batch_normalization_10 (Bat  (None, 50, 256)          1024      \n",
            " chNormalization)                                                \n",
            "                                                                 \n",
            " lstm_11 (LSTM)              (None, 50, 128)           197120    \n",
            "                                                                 \n",
            " batch_normalization_11 (Bat  (None, 50, 128)          512       \n",
            " chNormalization)                                                \n",
            "                                                                 \n",
            " lstm_12 (LSTM)              (None, 64)                49408     \n",
            "                                                                 \n",
            " batch_normalization_12 (Bat  (None, 64)               256       \n",
            " chNormalization)                                                \n",
            "                                                                 \n",
            " dense_6 (Dense)             (None, 32)                2080      \n",
            "                                                                 \n",
            " dense_7 (Dense)             (None, 1)                 33        \n",
            "                                                                 \n",
            "=================================================================\n",
            "Total params: 3,724,865\n",
            "Trainable params: 3,721,921\n",
            "Non-trainable params: 2,944\n",
            "_________________________________________________________________\n",
            "None\n"
          ]
        },
        {
          "output_type": "stream",
          "name": "stderr",
          "text": [
            "/usr/local/lib/python3.7/dist-packages/keras/optimizer_v2/adam.py:105: UserWarning: The `lr` argument is deprecated, use `learning_rate` instead.\n",
            "  super(Adam, self).__init__(name, **kwargs)\n"
          ]
        }
      ],
      "source": [
        "\n",
        "# nb_features = train_final.shape[2]\n",
        "# nb_out = train_label.shape[1]\n",
        "\n",
        "# model = Sequential()\n",
        "\n",
        "# model.add(Bidirectional(LSTM( units=256,\n",
        "#          return_sequences=True),\n",
        "#          input_shape=(sequence_length, nb_features),\n",
        "#         ))\n",
        "# model.add(Dropout(0.2))\n",
        "# model.add(BatchNormalization())\n",
        "\n",
        "# model.add(LSTM(\n",
        "#          units=128,\n",
        "#          return_sequences=True))\n",
        "\n",
        "# model.add(BatchNormalization())\n",
        "# model.add(LSTM(\n",
        "#           units=64,\n",
        "#           return_sequences=False))\n",
        "\n",
        "# model.add(BatchNormalization())\n",
        "# model.add(Dense(units=32))\n",
        "# model.add(Dense(units=nb_out, activation='sigmoid'))\n",
        "# tensorflow.keras.optimizers.Adam(lr=0.001, beta_1=0.9, beta_2=0.999, epsilon=None, decay=0.0, amsgrad=False)\n",
        "# model.compile(loss='binary_crossentropy', optimizer='adam', metrics=['accuracy'])\n",
        "\n",
        "# print(model.summary())\n",
        "\n",
        "\n",
        "nb_features = train_final.shape[2]\n",
        "nb_out = train_label.shape[1]\n",
        "\n",
        "model = Sequential()\n",
        "\n",
        "model.add(Bidirectional(LSTM( units=512,\n",
        "         return_sequences=True),\n",
        "         input_shape=(sequence_length, nb_features),\n",
        "        ))\n",
        "model.add(Dropout(0.2))\n",
        "model.add(BatchNormalization())\n",
        "\n",
        "model.add(LSTM(\n",
        "         units=256,\n",
        "         return_sequences=True))\n",
        "\n",
        "model.add(BatchNormalization())\n",
        "model.add(LSTM(\n",
        "         units=128,\n",
        "         return_sequences=True))\n",
        "\n",
        "model.add(BatchNormalization())\n",
        "model.add(LSTM(\n",
        "          units=64,\n",
        "          return_sequences=False))\n",
        "\n",
        "model.add(BatchNormalization())\n",
        "model.add(Dense(units=32))\n",
        "model.add(Dense(units=nb_out, activation='sigmoid'))\n",
        "tensorflow.keras.optimizers.Adam(lr=0.001, beta_1=0.9, beta_2=0.999, epsilon=None, decay=0.0, amsgrad=False)\n",
        "model.compile(loss='binary_crossentropy', optimizer='adam', metrics=['accuracy'])\n",
        "\n",
        "print(model.summary())"
      ]
    },
    {
      "cell_type": "code",
      "execution_count": 40,
      "id": "44cfd8ac",
      "metadata": {
        "colab": {
          "base_uri": "https://localhost:8080/"
        },
        "id": "44cfd8ac",
        "outputId": "2af33912-b51d-4b2e-9b28-2c8cd550eae3"
      },
      "outputs": [
        {
          "output_type": "stream",
          "name": "stdout",
          "text": [
            "1500/1500 [==============================] - 173s 110ms/step - loss: 0.2529 - accuracy: 0.8955 - val_loss: 0.0831 - val_accuracy: 0.9707\n"
          ]
        },
        {
          "output_type": "execute_result",
          "data": {
            "text/plain": [
              "<keras.callbacks.History at 0x7f36a8c131d0>"
            ]
          },
          "metadata": {},
          "execution_count": 40
        }
      ],
      "source": [
        "train_final = np.asarray(train_final).astype(np.float32)\n",
        "train_label = np.asarray(train_label).astype(np.float32)\n",
        "test_final = np.asarray(test_final).astype(np.float32)\n",
        "test_label = np.asarray(test_label).astype(np.float32)\n",
        "model.fit(train_final,train_label,validation_split=0.2,epochs=1, batch_size=32,verbose=1)"
      ]
    },
    {
      "cell_type": "code",
      "source": [
        "tensorflow.keras.optimizers.Adam(lr=0.000001, beta_1=0.9, beta_2=0.999, epsilon=None, decay=0.0, amsgrad=False)\n",
        "model.compile(loss='binary_crossentropy', optimizer='adam', metrics=['accuracy'])\n",
        "scores = model.evaluate(test_final, test_label, verbose=1, batch_size=32)\n",
        "scores[1]"
      ],
      "metadata": {
        "colab": {
          "base_uri": "https://localhost:8080/"
        },
        "id": "ogm6ifFzLY0a",
        "outputId": "7f683804-98c0-4d42-d5d2-6849654c4c87"
      },
      "id": "ogm6ifFzLY0a",
      "execution_count": 41,
      "outputs": [
        {
          "output_type": "stream",
          "name": "stderr",
          "text": [
            "/usr/local/lib/python3.7/dist-packages/keras/optimizer_v2/adam.py:105: UserWarning: The `lr` argument is deprecated, use `learning_rate` instead.\n",
            "  super(Adam, self).__init__(name, **kwargs)\n"
          ]
        },
        {
          "output_type": "stream",
          "name": "stdout",
          "text": [
            "513/513 [==============================] - 23s 38ms/step - loss: 0.0797 - accuracy: 0.9733\n"
          ]
        },
        {
          "output_type": "execute_result",
          "data": {
            "text/plain": [
              "0.9733089804649353"
            ]
          },
          "metadata": {},
          "execution_count": 41
        }
      ]
    },
    {
      "cell_type": "code",
      "source": [
        "def plot_confusion_matrix(cm, classes,\n",
        "                          normalize=False,\n",
        "                          title='Confusion matrix',\n",
        "                          cmap=plt.cm.Blues):\n",
        "    \"\"\"\n",
        "    This function prints and plots the confusion matrix.\n",
        "    Normalization can be applied by setting `normalize=True`.\n",
        "    \"\"\"\n",
        "    if normalize:\n",
        "        cm = cm.astype('float') / cm.sum(axis=1)[:, np.newaxis]\n",
        "        print(\"Normalized confusion matrix\")\n",
        "    else:\n",
        "        print('Confusion matrix, without normalization')\n",
        "\n",
        "    print(cm)\n",
        "    fig=plt.figure()\n",
        "    plt.imshow(cm, interpolation='nearest', cmap=cmap)\n",
        "    plt.title(title)\n",
        "    plt.colorbar()\n",
        "    tick_marks = np.arange(len(classes))\n",
        "    plt.xticks(tick_marks, classes, rotation=45)\n",
        "    plt.yticks(tick_marks, classes)\n",
        "\n",
        "    fmt = '.2f' if normalize else 'd'\n",
        "    thresh = cm.max() / 2.\n",
        "    for i, j in itertools.product(range(cm.shape[0]), range(cm.shape[1])):\n",
        "        plt.text(j, i, format(cm[i, j], fmt),\n",
        "                 horizontalalignment=\"center\",\n",
        "                 color=\"white\" if cm[i, j] > thresh else \"black\")\n",
        "\n",
        "    plt.tight_layout()\n",
        "    plt.ylabel('True label')\n",
        "    plt.xlabel('Predicted label')\n",
        "    fig.savefig('confusion_matrix_gender_alpha.png',bbox_inches='tight')"
      ],
      "metadata": {
        "id": "LBn5STaLLalh"
      },
      "id": "LBn5STaLLalh",
      "execution_count": 22,
      "outputs": []
    },
    {
      "cell_type": "code",
      "source": [
        "# scores_test = model.evaluate(test_final,test_label, verbose=2)\n",
        "# print('Accurracy: {}'.format(scores_test[1]))\n",
        "\n",
        "# make predictions and compute confusion matrix\n",
        "# y_pred_test = np.argmax(model.predict(test_final),axis=1)\n",
        "y_pred_test = np.round_(model.predict(test_final))\n",
        "\n",
        "y_true_test = test_label\n",
        "\n",
        "\n",
        "\n",
        "print('Confusion matrix\\n- x-axis is true labels.\\n- y-axis is predicted labels')\n",
        "cm_test = confusion_matrix(y_true_test, y_pred_test)\n",
        "print(cm_test)\n",
        "\n",
        "# compute precision and recall\n",
        "precision_test = precision_score(y_true_test, y_pred_test)\n",
        "recall_test = recall_score(y_true_test, y_pred_test)\n",
        "f1_test = 2 * (precision_test * recall_test) / (precision_test + recall_test)\n",
        "print( 'Precision: ', precision_test, '\\n', 'Recall: ', recall_test,'\\n', 'F1-score:', f1_test )"
      ],
      "metadata": {
        "colab": {
          "base_uri": "https://localhost:8080/"
        },
        "id": "dWDTP_yALgnR",
        "outputId": "43f6ae14-bf2a-40e4-f3b2-ecb7b7e9e4d6"
      },
      "id": "dWDTP_yALgnR",
      "execution_count": 46,
      "outputs": [
        {
          "output_type": "stream",
          "name": "stdout",
          "text": [
            "Confusion matrix\n",
            "- x-axis is true labels.\n",
            "- y-axis is predicted labels\n",
            "[[ 4755   126]\n",
            " [  312 11217]]\n",
            "Precision:  0.9888918275588469 \n",
            " Recall:  0.9729378090033828 \n",
            " F1-score: 0.9808499475341029\n"
          ]
        }
      ]
    },
    {
      "cell_type": "code",
      "source": [
        "# Plot non-normalized confusion matrix\n",
        "class_names=['M','F']\n",
        "plt.figure()\n",
        "plot_confusion_matrix(cm_test, classes=class_names,\n",
        "                      title='Confusion matrix')\n",
        "plt.show()"
      ],
      "metadata": {
        "colab": {
          "base_uri": "https://localhost:8080/",
          "height": 381
        },
        "id": "JK-oGdGaLiy6",
        "outputId": "595d9973-1519-4cb1-f94a-357009a29dd6"
      },
      "id": "JK-oGdGaLiy6",
      "execution_count": 47,
      "outputs": [
        {
          "output_type": "stream",
          "name": "stdout",
          "text": [
            "Confusion matrix, without normalization\n",
            "[[ 4755   126]\n",
            " [  312 11217]]\n"
          ]
        },
        {
          "output_type": "display_data",
          "data": {
            "text/plain": [
              "<Figure size 432x288 with 0 Axes>"
            ]
          },
          "metadata": {}
        },
        {
          "output_type": "display_data",
          "data": {
            "text/plain": [
              "<Figure size 432x288 with 2 Axes>"
            ],
            "image/png": "[encoded data removed]"
          },
          "metadata": {
            "needs_background": "light"
          }
        }
      ]
    }
  ],
  "metadata": {
    "kernelspec": {
      "display_name": "Python 3",
      "language": "python",
      "name": "python3"
    },
    "language_info": {
      "codemirror_mode": {
        "name": "ipython",
        "version": 3
      },
      "file_extension": ".py",
      "mimetype": "text/x-python",
      "name": "python",
      "nbconvert_exporter": "python",
      "pygments_lexer": "ipython3",
      "version": "3.8.8"
    },
    "colab": {
      "name": "Untitled.ipynb",
      "provenance": []
    },
    "accelerator": "GPU"
  },
  "nbformat": 4,
  "nbformat_minor": 5
}